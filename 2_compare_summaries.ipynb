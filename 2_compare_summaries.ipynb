{
 "cells": [
  {
   "cell_type": "code",
   "execution_count": 98,
   "metadata": {},
   "outputs": [],
   "source": [
    "from pathlib import Path\n",
    "from pydantic.v1 import BaseModel, Field\n",
    "\n",
    "from langchain.chat_models import ChatOpenAI\n",
    "from langchain.agents import Tool\n",
    "from langchain.embeddings.openai import OpenAIEmbeddings\n",
    "from langchain.text_splitter import CharacterTextSplitter\n",
    "from langchain.vectorstores import FAISS\n",
    "from langchain.document_loaders import TextLoader\n",
    "from langchain.chains import RetrievalQA\n",
    "from langchain.agents import initialize_agent\n",
    "from langchain.agents import AgentType\n",
    "from langchain.llms import OpenAI\n",
    "from langchain import PromptTemplate\n",
    "from langchain.prompts.chat import (\n",
    "    ChatPromptTemplate,\n",
    "    SystemMessagePromptTemplate,\n",
    "    AIMessagePromptTemplate,\n",
    "    HumanMessagePromptTemplate,\n",
    ")\n"
   ]
  },
  {
   "cell_type": "markdown",
   "metadata": {},
   "source": [
    "# Plan\n",
    "\n",
    "1. Use document compare against best summaries\n",
    "2. Try prompt engineering for comparison\n",
    "\n",
    "The sections summary seem to do the best job at capturing the details of the contracts so I will use them. "
   ]
  },
  {
   "cell_type": "code",
   "execution_count": 13,
   "metadata": {},
   "outputs": [],
   "source": [
    "save_dir = Path('data', 'summary_comparison')\n",
    "summaries_dir = Path('data', 'summaries')\n",
    "sections_2015_fname = Path(summaries_dir, \"2015_sections_summary.txt\")\n",
    "sections_2023_fname = Path(summaries_dir, \"2023_sections_summary.txt\")\n"
   ]
  },
  {
   "cell_type": "markdown",
   "metadata": {},
   "source": [
    "# Document Comparison Tool"
   ]
  },
  {
   "cell_type": "code",
   "execution_count": 6,
   "metadata": {},
   "outputs": [],
   "source": [
    "class DocumentInput(BaseModel):\n",
    "    question: str = Field()\n",
    "\n",
    "\n",
    "llm = ChatOpenAI(temperature=0, model=\"gpt-3.5-turbo-0613\")\n",
    "\n",
    "tools = []\n",
    "files = [\n",
    "\n",
    "    {\n",
    "        \"name\": \"2015-TandCS\",\n",
    "        \"path\": str(sections_2015_fname),\n",
    "    },\n",
    "\n",
    "    {\n",
    "        \"name\": \"2023-TandCS\",\n",
    "        \"path\": str(sections_2023_fname),\n",
    "    },\n",
    "]\n",
    "\n",
    "for file in files:\n",
    "    loader = TextLoader(file[\"path\"])\n",
    "    pages = loader.load_and_split()\n",
    "    text_splitter = CharacterTextSplitter(chunk_size=1000, chunk_overlap=0)\n",
    "    docs = text_splitter.split_documents(pages)\n",
    "    embeddings = OpenAIEmbeddings()\n",
    "    retriever = FAISS.from_documents(docs, embeddings).as_retriever()\n",
    "\n",
    "    # Wrap retrievers in a Tool\n",
    "    tools.append(\n",
    "        Tool(\n",
    "            args_schema=DocumentInput,\n",
    "            name=file[\"name\"],\n",
    "            description=f\"useful when you want to answer questions about {file['name']}\",\n",
    "            func=RetrievalQA.from_chain_type(llm=llm, retriever=retriever),\n",
    "        )\n",
    "    )"
   ]
  },
  {
   "cell_type": "code",
   "execution_count": 7,
   "metadata": {},
   "outputs": [],
   "source": [
    "agent = initialize_agent(\n",
    "    agent=AgentType.OPENAI_FUNCTIONS,\n",
    "    tools=tools,\n",
    "    llm=llm,\n",
    "    verbose=True,\n",
    ")"
   ]
  },
  {
   "cell_type": "code",
   "execution_count": 8,
   "metadata": {},
   "outputs": [
    {
     "name": "stdout",
     "output_type": "stream",
     "text": [
      "\n",
      "\n",
      "\u001b[1m> Entering new AgentExecutor chain...\u001b[0m\n",
      "\u001b[32;1m\u001b[1;3m\n",
      "Invoking: `2015-TandCS` with `{'question': 'key differences'}`\n",
      "\n",
      "\n",
      "\u001b[0m\u001b[36;1m\u001b[1;3m{'query': 'key differences', 'result': 'Some key differences between the iTunes Store Service agreement and the Mac App Store, App Store, and iBooks Store agreement include:\\n\\n1. Scope: The iTunes Store Service agreement specifically covers the use of the iTunes Store Service provided by iTunes SARL, while the Mac App Store, App Store, and iBooks Store agreement covers the use of the Mac App Store, App Store, and iBooks Store, as well as purchasing licenses from these stores.\\n\\n2. Content: The iTunes Store Service agreement covers details about content availability, use of content, usage rules, content security, and service security. The Mac App Store, App Store, and iBooks Store agreement includes terms and conditions for using iBooks Store Products, including usage rules and restrictions.\\n\\n3. Age Requirement: Both agreements state that users must be at least 13 years old to create an account. However, the iTunes Store Service agreement specifies that users under 13 must have an account created by a parent or legal guardian. The Mac App Store, App Store, and iBooks Store agreement states that users under 18 must review the agreement with a parent or guardian.\\n\\n4. Location: The iTunes Store Service agreement states that the service is only available in the United Kingdom. The Mac App Store, App Store, and iBooks Store agreement does not specify a specific location.\\n\\n5. External Services: The Mac App Store, App Store, and iBooks Store agreement includes terms and conditions for using information from External Services for general purposes only, such as financial, medical, and location data. The iTunes Store Service agreement does not mention External Services.\\n\\nThese are just a few key differences between the two agreements. It is important to review each agreement in its entirety to fully understand the terms and conditions.'}\u001b[0m\u001b[32;1m\u001b[1;3m\n",
      "Invoking: `2023-TandCS` with `{'question': 'key differences'}`\n",
      "\n",
      "\n",
      "\u001b[0m\u001b[33;1m\u001b[1;3m{'query': 'key differences', 'result': \"Based on the provided context, here are some key differences in Apple's terms and conditions for its services:\\n\\n1. Payment Methods: Apple charges the user's selected payment method, including taxes, for purchasing content. If the primary payment method fails, Apple can attempt to charge other eligible payment methods.\\n\\n2. Cancellation Policy: Users can cancel their orders within 14 days of receiving their receipt.\\n\\n3. Usage Limitations: The usage of services and content must be for personal, noncommercial purposes. Users can use content from up to five different Apple IDs on each device, and they can have up to 10 devices signed in with their Apple ID at one time.\\n\\n4. Travel Restrictions: Some services and content may not be available when traveling outside of the user's home country.\\n\\n5. Family Sharing: The Family Sharing feature allows up to six family members to share eligible subscriptions. The family organizer, who must be 18 years or older, is responsible for all family transactions. The Ask to Buy feature requires organizers to approve transactions initiated by underage family members.\\n\\n6. App Licenses: Apps are licensed, not sold, to users. The license is subject to the End User License Agreement. In-App Purchases cannot be transferred among devices and can only be downloaded once.\\n\\n7. Governing Laws: The agreement is governed by California state laws unless the user resides in a different country, in which case that country's laws apply.\\n\\nThese are just a few key differences based on the provided context. The full terms and conditions may contain additional details and variations for specific services.\"}\u001b[0m\u001b[32;1m\u001b[1;3mHere are some key differences between the 2015-TandCS and 2023-TandCS:\n",
      "\n",
      "1. Scope: The 2015-TandCS specifically cover the use of the iTunes Store Service provided by iTunes SARL, while the 2023-TandCS cover the use of the Mac App Store, App Store, and iBooks Store, as well as purchasing licenses from these stores.\n",
      "\n",
      "2. Content: The 2015-TandCS cover details about content availability, use of content, usage rules, content security, and service security. The 2023-TandCS include terms and conditions for using iBooks Store Products, including usage rules and restrictions.\n",
      "\n",
      "3. Age Requirement: Both agreements state that users must be at least 13 years old to create an account. However, the 2015-TandCS specify that users under 13 must have an account created by a parent or legal guardian. The 2023-TandCS state that users under 18 must review the agreement with a parent or guardian.\n",
      "\n",
      "4. Location: The 2015-TandCS state that the iTunes Store Service is only available in the United Kingdom. The 2023-TandCS do not specify a specific location.\n",
      "\n",
      "5. External Services: The 2023-TandCS include terms and conditions for using information from External Services for general purposes only, such as financial, medical, and location data. The 2015-TandCS do not mention External Services.\n",
      "\n",
      "In addition to these differences, the 2023-TandCS also cover topics such as payment methods, cancellation policy, usage limitations, travel restrictions, family sharing, app licenses, and governing laws. It is important to review each agreement in its entirety to fully understand the terms and conditions.\u001b[0m\n",
      "\n",
      "\u001b[1m> Finished chain.\u001b[0m\n"
     ]
    }
   ],
   "source": [
    "query = \"What are the key differences between the 2015-TandCS and 2023-TandCS?\"\n",
    "output = agent({\"input\": query})"
   ]
  },
  {
   "cell_type": "code",
   "execution_count": 15,
   "metadata": {},
   "outputs": [],
   "source": [
    "with open(Path(save_dir, 'document_comparison_output.txt'), 'w') as f:\n",
    "    f.write(output['output'])"
   ]
  },
  {
   "cell_type": "markdown",
   "metadata": {},
   "source": [
    "# Prompt Engineering - Davinci"
   ]
  },
  {
   "cell_type": "code",
   "execution_count": 66,
   "metadata": {},
   "outputs": [],
   "source": [
    "openai = OpenAI(\n",
    "    model=\"text-davinci-003\", \n",
    "    temperature = 0)"
   ]
  },
  {
   "cell_type": "code",
   "execution_count": 67,
   "metadata": {},
   "outputs": [],
   "source": [
    "with open(sections_2015_fname, \"r\") as f:\n",
    "    section_2015 = f.read()\n",
    "with open(sections_2023_fname, \"r\") as f:\n",
    "    section_2023 = f.read()"
   ]
  },
  {
   "cell_type": "code",
   "execution_count": 114,
   "metadata": {},
   "outputs": [],
   "source": [
    "prompt = \"\"\"Compare the two texts provided below and provide the key differences between them. \n",
    "The output should be relvent for legal experts. \n",
    "The first text includes information from 2015 and is contained with three backticks (```). \n",
    "The second text contains information from 2023 and is contained wihin three hash symbols (###).\n",
    "Your answer should be detailed and specifics, formatted as bullet points and refer back to the text names when describing the differences. \n",
    "                   \n",
    "                      \n",
    "2015 text: ```{text1}```\n",
    "            \n",
    "2023 text: ###{text2}###\n",
    "\"\"\"\n",
    "            \n",
    "prompt_template = PromptTemplate(\n",
    "    input_variables=[\"text1\", \"text2\"],\n",
    "    template=prompt\n",
    ")"
   ]
  },
  {
   "cell_type": "code",
   "execution_count": 92,
   "metadata": {},
   "outputs": [],
   "source": [
    "prompt_template_formatted = prompt_template.format(text1= section_2015, text2=section_2023)"
   ]
  },
  {
   "cell_type": "code",
   "execution_count": 93,
   "metadata": {},
   "outputs": [],
   "source": [
    "prompt_engineering_output = openai(prompt_template_formatted)"
   ]
  },
  {
   "cell_type": "code",
   "execution_count": 94,
   "metadata": {},
   "outputs": [
    {
     "name": "stdout",
     "output_type": "stream",
     "text": [
      "\n",
      "\n",
      "Key Differences Between 2015 and 2023 Texts:\n",
      "- 2015 text: \n",
      "    - Outlines rules and responsibilities of family sharing and electronic contracting\n",
      "    - Only available in the United Kingdom\n",
      "    - Refunds available as per the refund policy\n",
      "    - HD products can only be viewed on HD-capable devices\n",
      "    - iTunes reserves the right to modify, suspend, or discontinue the service anytime without liability\n",
      "    - Governed by English law\n",
      "- 2023 text:\n",
      "    - Outlines terms and conditions for using Apple's Services such as the App Store, Apple Music, Apple TV, among others\n",
      "    - Family Sharing feature allows up to six family members to share eligible subscriptions\n",
      "    - Ask to Buy feature requires organizers to approve transactions initiated by underage family members\n",
      "    - Series Pass and Multi-Pass allow users to purchase and receive TV content as it becomes available\n",
      "    - App licenses are provided by Apple or a third party developer, and apps may offer In-App Purchases\n",
      "    - iCloud Music Library for Apple Music members and Apple Fitness+ is for entertainment, not medical advice\n",
      "    - Apple offers options for carrier membership\n",
      "    - Governed by laws of the State of California, excluding conflicts of law provisions\n"
     ]
    }
   ],
   "source": [
    "print(prompt_engineering_output)"
   ]
  },
  {
   "cell_type": "code",
   "execution_count": 95,
   "metadata": {},
   "outputs": [],
   "source": [
    "with open(Path(save_dir, 'prompt_engineering_output_davinci.txt'), 'w') as f:\n",
    "    f.write(prompt_engineering_output)"
   ]
  },
  {
   "cell_type": "markdown",
   "metadata": {},
   "source": [
    "# Prompt Engineering - GPT"
   ]
  },
  {
   "cell_type": "code",
   "execution_count": 116,
   "metadata": {},
   "outputs": [],
   "source": [
    "human_message_prompt = HumanMessagePromptTemplate.from_template(prompt)\n",
    "\n",
    "chat_prompt = ChatPromptTemplate.from_messages([human_message_prompt])\n"
   ]
  },
  {
   "cell_type": "code",
   "execution_count": 117,
   "metadata": {},
   "outputs": [],
   "source": [
    "gpt_prompt_engineering_output = llm(\n",
    "    chat_prompt.format_prompt(text1=section_2015, text2=section_2023).to_messages()\n",
    ")"
   ]
  },
  {
   "cell_type": "code",
   "execution_count": 120,
   "metadata": {},
   "outputs": [
    {
     "name": "stdout",
     "output_type": "stream",
     "text": [
      "Differences between the 2015 and 2023 texts relevant for legal experts:\n",
      "\n",
      "- The 2015 text specifically refers to the iTunes Store Service provided by iTunes SARL, while the 2023 text outlines terms and conditions for using Apple's Services such as the App Store, Apple Music, and Apple TV, among others.\n",
      "- The 2015 text states that the service is only available in the United Kingdom, while the 2023 text mentions that the services are available in the user's country of residence.\n",
      "- The 2015 text includes specific details about the iTunes Store, such as purchasing licenses from the Mac App Store, App Store, and iBooks Store, while the 2023 text provides a more general overview of Apple's Services.\n",
      "- The 2015 text mentions the requirement for users to have an account created by a parent or legal guardian if they are under 13 years old, while the 2023 text states that users must be at least 18 years old to be the family organizer for Family Sharing.\n",
      "- The 2015 text includes information about content availability, usage rules, content security, and service security, while the 2023 text mentions that the usage of services and content must be for personal, noncommercial purposes.\n",
      "- The 2015 text outlines the rules and responsibilities of family sharing and electronic contracting, while the 2023 text specifically mentions the Family Sharing feature and the Ask to Buy feature for underage family members.\n",
      "- The 2015 text includes details about the use of content from External Services and the Licensor's ability to change or disable access, while the 2023 text does not mention External Services.\n",
      "- The 2015 text states that the agreement is governed by English law and operated by iTunes from Luxembourg, while the 2023 text states that the agreement is governed by California state laws unless the user resides in a different country.\n",
      "- The 2015 text mentions that iTunes may disclose user information to law enforcement if necessary, while the 2023 text does not include this specific provision.\n",
      "- The 2015 text includes terms and conditions for using iBooks Store Products, while the 2023 text mentions that some content from Apple Books is acquired from third-party providers.\n",
      "- The 2015 text mentions that iTunes reserves the right to modify, suspend, or discontinue the service anytime without liability, while the 2023 text mentions that Apple reserves the right to modify their agreement and terms of use at any time.\n",
      "- The 2015 text includes specific details about refunds, price changes, and product availability, while the 2023 text provides more general information about cancellation, payment methods, and content expiration.\n",
      "- The 2015 text mentions that users are responsible for any material they submit to the service and grants iTunes a worldwide, royalty-free, nonexclusive license to use these materials, while the 2023 text mentions that users grant Apple a non-exclusive license to use the materials they submit and that Apple has the right to monitor and remove any material that violates the guidelines.\n",
      "- The 2015 text includes information about HD Products and their compatibility with HD-capable devices, while the 2023 text mentions that the use of services on non-Apple-branded devices may limit access to some features.\n",
      "- The 2015 text mentions that the agreement can be modified by iTunes anytime and the changes will be effective immediately after user acceptance, while the 2023 text mentions that Apple reserves the right to modify their agreement and terms of use at any time.\n",
      "- The 2015 text includes specific details about the licensing for products purchased, including software from Apple and third-party developers, in-app purchases, subscriptions, and product usage rules, while the 2023 text mentions that app licenses are provided by Apple or a third-party developer and that apps may offer in-app purchases.\n",
      "- The 2015 text includes information about the delivery of updates and downloading previous purchases, while the 2023 text does not mention these specific details.\n",
      "- The 2015 text mentions that the service and its contents are copyrighted and protected by intellectual property laws, while the 2023 text mentions that Apple is not responsible for copyright infringement by users.\n",
      "- The 2015 text mentions that in case of breach of agreement, iTunes can terminate the agreement and/or user account, while the 2023 text mentions termination and suspension guidelines for services.\n",
      "- The 2015 text includes specific details about the requirements for account use and security, while the 2023 text mentions that the services require compatible hardware, software, and internet access.\n",
      "- The 2015 text mentions that users are responsible for maintaining the security of their account and for all activities that occur through their account, while the 2023 text does not include this specific provision.\n",
      "- The 2015 text mentions that users must download remaining Pass content within 90 days of availability, while the 2023 text mentions that some downloaded content may expire after a certain time.\n",
      "- The 2015 text mentions that iTunes charges the full amount for Season Pass or Multi-Pass upon purchase, while the 2023 text mentions that users can purchase content either for free or for a charge, with Apple charging the user's selected payment method, including taxes.\n",
      "- The 2015 text mentions that iTunes gift certificates, cards, and codes cannot be redeemed for cash or returned for a cash refund, while the 2023 text does not include this specific provision.\n",
      "- The 2015 text mentions that iTunes reserves the right to change product prices at any time and does not offer refunds in the event of a price drop or promotional offering after purchase, while the 2023 text does not include this specific provision.\n"
     ]
    }
   ],
   "source": [
    "print(gpt_prompt_engineering_output.content)"
   ]
  },
  {
   "cell_type": "code",
   "execution_count": 121,
   "metadata": {},
   "outputs": [],
   "source": [
    "with open(Path(save_dir, 'prompt_engineering_output_gpt.txt'), 'w') as f:\n",
    "    f.write(gpt_prompt_engineering_output.content)"
   ]
  },
  {
   "cell_type": "code",
   "execution_count": null,
   "metadata": {},
   "outputs": [],
   "source": []
  }
 ],
 "metadata": {
  "kernelspec": {
   "display_name": ".venv",
   "language": "python",
   "name": "python3"
  },
  "language_info": {
   "codemirror_mode": {
    "name": "ipython",
    "version": 3
   },
   "file_extension": ".py",
   "mimetype": "text/x-python",
   "name": "python",
   "nbconvert_exporter": "python",
   "pygments_lexer": "ipython3",
   "version": "3.11.4"
  }
 },
 "nbformat": 4,
 "nbformat_minor": 2
}
