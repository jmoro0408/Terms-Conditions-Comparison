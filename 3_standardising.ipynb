{
 "cells": [
  {
   "cell_type": "code",
   "execution_count": 1,
   "metadata": {},
   "outputs": [],
   "source": [
    "from pathlib import Path\n",
    "from pydantic.v1 import BaseModel, Field\n",
    "\n",
    "from langchain.chat_models import ChatOpenAI\n",
    "from langchain.agents import Tool\n",
    "from langchain.embeddings.openai import OpenAIEmbeddings\n",
    "from langchain.text_splitter import CharacterTextSplitter\n",
    "from langchain.vectorstores import FAISS\n",
    "from langchain.document_loaders import TextLoader\n",
    "from langchain.chains import RetrievalQA\n",
    "from langchain.agents import initialize_agent\n",
    "from langchain.agents import AgentType\n",
    "from langchain.llms import OpenAI\n",
    "from langchain import PromptTemplate\n",
    "from langchain.prompts.chat import (\n",
    "    ChatPromptTemplate,\n",
    "    SystemMessagePromptTemplate,\n",
    "    AIMessagePromptTemplate,\n",
    "    HumanMessagePromptTemplate,\n",
    ")"
   ]
  },
  {
   "cell_type": "code",
   "execution_count": 16,
   "metadata": {},
   "outputs": [],
   "source": [
    "save_dir = Path(\"data\", \"standardisation\")\n",
    "summaries_dir = Path(\"data\", \"summaries\")\n",
    "sections_2015_fname = Path(summaries_dir, \"2015_sections_summary.txt\")\n",
    "sections_2023_fname = Path(summaries_dir, \"2023_sections_summary.txt\")"
   ]
  },
  {
   "cell_type": "code",
   "execution_count": 6,
   "metadata": {},
   "outputs": [],
   "source": [
    "with open(sections_2015_fname, \"r\") as f:\n",
    "    section_2015 = f.read()\n",
    "with open(sections_2023_fname, \"r\") as f:\n",
    "    section_2023 = f.read()"
   ]
  },
  {
   "cell_type": "code",
   "execution_count": 11,
   "metadata": {},
   "outputs": [],
   "source": [
    "prompt = \"\"\"You are an expert lawyer with a speciality in contract law. \n",
    "Please provide advice on what a common standardised format would look like for the \n",
    "following texts. The format should include sections with headings with a brief description of the section \n",
    "and should capture all the information present in both texts. \n",
    "The first text includes information from 2015 and is contained with three backticks (```). \n",
    "The second text contains information from 2023 and is contained wihin three hash symbols (###).\n",
    "\n",
    "                      \n",
    "2015 text: ```{text1}```\n",
    "            \n",
    "2023 text: ###{text2}###\n",
    "\"\"\"\n",
    "\n",
    "prompt_template = PromptTemplate(input_variables=[\"text1\", \"text2\"], template=prompt)"
   ]
  },
  {
   "cell_type": "code",
   "execution_count": 19,
   "metadata": {},
   "outputs": [],
   "source": [
    "gpt35 = ChatOpenAI(temperature=0, model=\"gpt-3.5-turbo-0613\")\n",
    "gpt4 = ChatOpenAI(temperature=0, model=\"gpt-4\")"
   ]
  },
  {
   "cell_type": "code",
   "execution_count": 13,
   "metadata": {},
   "outputs": [],
   "source": [
    "human_message_prompt = HumanMessagePromptTemplate.from_template(prompt)\n",
    "chat_prompt = ChatPromptTemplate.from_messages([human_message_prompt])"
   ]
  },
  {
   "cell_type": "code",
   "execution_count": 14,
   "metadata": {},
   "outputs": [],
   "source": [
    "gpt_prompt_engineering_output = gpt35(\n",
    "    chat_prompt.format_prompt(text1=section_2015, text2=section_2023).to_messages()\n",
    ")"
   ]
  },
  {
   "cell_type": "code",
   "execution_count": 15,
   "metadata": {},
   "outputs": [
    {
     "name": "stdout",
     "output_type": "stream",
     "text": [
      "Standardized Format:\n",
      "\n",
      "1. Introduction\n",
      "   - Brief description: Provides an overview of the agreement and the services covered.\n",
      "   - Information from 2015: Outlines the terms and conditions for the iTunes Store Service provided by iTunes SARL.\n",
      "   - Information from 2023: Outlines terms and conditions for using Apple's Services such as the App Store, Apple Music, Apple TV, among others.\n",
      "\n",
      "2. Payment and Purchases\n",
      "   - Brief description: Covers payment methods, cancellation policies, and refunds.\n",
      "   - Information from 2015: Users must pay for all products purchased through the iTunes store and provide a valid payment method. Purchases can be cancelled within 14 days of receipt, except for iTunes gifts which cannot be refunded once the code is redeemed. If a product becomes unavailable after purchase but before download, the user is entitled to a refund of the price paid. Pre-orders can be cancelled before the product becomes available. iTunes reserves the right to change product prices at any time and does not offer refunds in the event of a price drop or promotional offering after purchase. iTunes gift certificates, cards, and codes cannot be redeemed for cash or returned for a cash refund.\n",
      "   - Information from 2023: Users can purchase content either for free or for a charge, with Apple charging the user's selected payment method, including taxes. If the primary payment method fails, Apple can attempt to charge other eligible payment methods. Users can cancel their orders within 14 days of receiving their receipt.\n",
      "\n",
      "3. Account and Security\n",
      "   - Brief description: Covers account creation, age restrictions, and user responsibilities.\n",
      "   - Information from 2015: Only individuals aged 13 years or older can create accounts, those under 13 must have an account created by a parent or legal guardian. The service is only available in the United Kingdom. Users are responsible for maintaining the security of their account and for all activities that occur through their account.\n",
      "   - Information from 2023: The services require compatible hardware, software, and internet access and are available in the user's country of residence. Users must be at least 13 years old to create an account, and those under 18 must review the agreement with a parent or guardian. Users can use content from up to five different Apple IDs on each device. Users can have up to 10 devices signed in with their Apple ID at one time.\n",
      "\n",
      "4. Content Usage and Restrictions\n",
      "   - Brief description: Covers content availability, usage rules, and restrictions.\n",
      "   - Information from 2015: The agreement covers details about content availability, use of content, usage rules, content security and service security, and the iTunes Match service. HD Products can only be viewed on HD-capable devices. Users are responsible for any material they submit to the service, granting iTunes a worldwide, royalty-free, nonexclusive license to use these materials. iTunes reserves the right to modify, suspend, or discontinue the service anytime without liability. In case of breach of agreement, iTunes can terminate the agreement and/or user account. iTunes is not responsible for third-party materials or websites. The service and its contents are copyrighted and protected by intellectual property laws. The agreement can be modified by iTunes anytime and the changes will be effective immediately after user acceptance. The service is operated by iTunes from Luxembourg and is governed by English law. Users agree to comply with all applicable laws and regulations.\n",
      "   - Information from 2023: The usage of services and content must be for personal, noncommercial purposes. Users may be limited in the amount of content they can download and some downloaded content may expire after a certain time. Some services and content may not be available when traveling outside of the user's home country. Use of the services on non-Apple-branded devices may limit access to some features. Apple's Services allow users to post a variety of materials, provided they comply with Submission Guidelines. Users grant Apple a non-exclusive license to use the materials they submit. Apple has the right to monitor and remove any material that violates the guidelines.\n",
      "\n",
      "5. Family Sharing\n",
      "   - Brief description: Covers the rules and responsibilities of family sharing.\n",
      "   - Information from 2015: The policy also outlines the rules and responsibilities of family sharing and electronic contracting.\n",
      "   - Information from 2023: Family Sharing feature allows up to six family members to share eligible subscriptions. Family organizer, who must be 18 years or older, is responsible for all family transactions. The Ask to Buy feature requires organizers to approve transactions initiated by underage family members.\n",
      "\n",
      "6. Licensing and Third-Party Providers\n",
      "   - Brief description: Covers licensing terms, third-party materials, and external services.\n",
      "   - Information from 2015: Licensing for products purchased, including software from Apple and third-party developers, in-app purchases, subscriptions, and product usage rules are covered. The document includes terms and conditions for using information from External Services for general purposes only, such as financial, medical, and location data. Usage of content in External Services should align with EULA terms, and users are responsible for complying with local laws when accessing these services. The Licensor can change or disable access at any time and makes no warranties regarding uninterrupted or error-free service. The agreement also contains terms and conditions for using iBooks Store Products, including usage rules and restrictions.\n",
      "   - Information from 2023: App licenses are provided by Apple or a third-party developer, and apps may offer In-App Purchases. In-App Purchases cannot be transferred among devices and can only be downloaded once. Apps are licensed, not sold, to users and the license is subject to the End User License Agreement. Apple's terms and conditions state that some content from Apple Books, App Store, and Apple Podcasts are acquired from third-party providers, with Apple acting as an agent for the provider.\n",
      "\n",
      "7. Agreement Modification and Termination\n",
      "   - Brief description: Covers the modification and termination of the agreement.\n",
      "   - Information from 2015: The agreement can be modified by iTunes at any time, and changes will be communicated to the user. iTunes may disclose user information to law enforcement if necessary.\n",
      "   - Information from 2023: Apple reserves the right to modify their agreement and terms of use at any time and is not responsible for third-party materials or copyright infringement by users. The terms outline termination and suspension guidelines for services.\n",
      "\n",
      "8. Governing Law and Miscellaneous Terms\n",
      "   - Brief description: Covers the governing law, jurisdiction, and miscellaneous terms.\n",
      "   - Information from 2015: The service is operated by iTunes from Luxembourg and is governed by English law.\n",
      "   - Information from 2023: The agreement is governed by California state laws unless the user resides in a different country, in which case that country's laws apply. The terms also outline statutory exceptions for public institutions, governing law and jurisdiction provisions, and other miscellaneous terms.\n"
     ]
    }
   ],
   "source": [
    "print(gpt_prompt_engineering_output.content)"
   ]
  },
  {
   "cell_type": "code",
   "execution_count": 18,
   "metadata": {},
   "outputs": [],
   "source": [
    "with open(Path(save_dir, \"gpt35_standardisation_advice.txt\"), \"w\") as f:\n",
    "    f.write(gpt_prompt_engineering_output.content)"
   ]
  },
  {
   "cell_type": "markdown",
   "metadata": {},
   "source": [
    "# GPT 4"
   ]
  },
  {
   "cell_type": "code",
   "execution_count": 20,
   "metadata": {},
   "outputs": [],
   "source": [
    "gpt_prompt_engineering_output = gpt4(\n",
    "    chat_prompt.format_prompt(text1=section_2015, text2=section_2023).to_messages()\n",
    ")"
   ]
  },
  {
   "cell_type": "code",
   "execution_count": 22,
   "metadata": {},
   "outputs": [
    {
     "name": "stdout",
     "output_type": "stream",
     "text": [
      "Based on the information provided in both texts, a common standardised format for the contract could be as follows:\n",
      "\n",
      "1. **Introduction**\n",
      "   - Brief overview of the agreement and the parties involved.\n",
      "\n",
      "2. **Eligibility and Account Creation**\n",
      "   - Age requirements for account creation.\n",
      "   - Responsibility for account security and activities.\n",
      "   - Limitations on the number of devices and Apple IDs per device.\n",
      "\n",
      "3. **Services and Content**\n",
      "   - Description of services and content offered.\n",
      "   - Requirements for using the services (compatible hardware, software, internet access).\n",
      "   - Limitations on service availability (geographical restrictions, device restrictions).\n",
      "\n",
      "4. **Purchasing and Payment**\n",
      "   - Payment methods and charges, including taxes.\n",
      "   - Rules for pre-orders and cancellations.\n",
      "   - Details about automatic renewals and subscription-based content.\n",
      "   - Information about special offerings like Season Pass, Multi-Pass, Series Pass.\n",
      "\n",
      "5. **User Responsibilities**\n",
      "   - Rules for personal, noncommercial use of content.\n",
      "   - Responsibility for submitted materials and granting of non-exclusive license to Apple.\n",
      "   - Compliance with Submission Guidelines and consequences of violation.\n",
      "\n",
      "6. **Family Sharing**\n",
      "   - Description of Family Sharing feature and responsibilities of the family organizer.\n",
      "   - Rules for transactions initiated by underage family members.\n",
      "\n",
      "7. **Third-Party Content and Services**\n",
      "   - Information about content acquired from third-party providers.\n",
      "   - Apple's role as an agent for third-party providers.\n",
      "   - Apple's non-responsibility for third-party materials or websites.\n",
      "\n",
      "8. **Intellectual Property Rights**\n",
      "   - Information about copyright and intellectual property laws protecting the service and its contents.\n",
      "\n",
      "9. **Termination and Suspension**\n",
      "   - Conditions under which the agreement can be terminated or suspended.\n",
      "   - Consequences of breach of agreement.\n",
      "\n",
      "10. **Warranty and Liability**\n",
      "   - Disclaimers of warranties.\n",
      "   - Limitations on Apple's liability.\n",
      "\n",
      "11. **Legal and Regulatory Compliance**\n",
      "   - Users' obligation to comply with all applicable laws and regulations.\n",
      "   - Apple's right to disclose user information to law enforcement if necessary.\n",
      "\n",
      "12. **Governing Law**\n",
      "   - Information about the law governing the agreement.\n",
      "\n",
      "13. **Amendments to the Agreement**\n",
      "   - Apple's right to modify the agreement.\n",
      "   - Procedure for communicating changes to the user.\n",
      "\n",
      "14. **Miscellaneous Terms**\n",
      "   - Any other terms and conditions not covered in the above sections.\n"
     ]
    }
   ],
   "source": [
    "print(gpt_prompt_engineering_output.content)"
   ]
  },
  {
   "cell_type": "code",
   "execution_count": 21,
   "metadata": {},
   "outputs": [],
   "source": [
    "with open(Path(save_dir, \"gpt4_standardisation_advice.txt\"), \"w\") as f:\n",
    "    f.write(gpt_prompt_engineering_output.content)"
   ]
  },
  {
   "cell_type": "code",
   "execution_count": null,
   "metadata": {},
   "outputs": [],
   "source": []
  }
 ],
 "metadata": {
  "kernelspec": {
   "display_name": ".venv",
   "language": "python",
   "name": "python3"
  },
  "language_info": {
   "codemirror_mode": {
    "name": "ipython",
    "version": 3
   },
   "file_extension": ".py",
   "mimetype": "text/x-python",
   "name": "python",
   "nbconvert_exporter": "python",
   "pygments_lexer": "ipython3",
   "version": "3.11.4"
  }
 },
 "nbformat": 4,
 "nbformat_minor": 2
}
