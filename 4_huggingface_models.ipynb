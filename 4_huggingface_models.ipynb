{
 "cells": [
  {
   "cell_type": "code",
   "execution_count": 39,
   "metadata": {},
   "outputs": [],
   "source": [
    "from pathlib import Path\n",
    "from langchain.document_loaders import Docx2txtLoader\n",
    "from langchain.chains.combine_documents.stuff import StuffDocumentsChain\n",
    "from langchain.chains import ReduceDocumentsChain, MapReduceDocumentsChain\n",
    "from langchain.chains.llm import LLMChain\n",
    "from langchain.text_splitter import CharacterTextSplitter\n",
    "from langchain.prompts import PromptTemplate\n",
    "from transformers import AutoTokenizer\n",
    "from langchain import PromptTemplate, HuggingFaceHub, LLMChain"
   ]
  },
  {
   "cell_type": "markdown",
   "metadata": {},
   "source": [
    "# Attempting summarisation with Legal-Bert\n",
    "\n",
    "The most downloaded/liked transformer on Huggingface with the \"legal\" tag. \n",
    "\n",
    "Models tried - \n",
    "* google/flan-t5-large - Internal server error\n",
    "* kolpadkar/legal-flan-t5-base - Very poor poor performance\n",
    "* nlpaueb/legal-bert-base-uncased - Model not supported by HuggingfaceHub (dont have resources to run locally)\n",
    "* facebook/bart-large-cnn - Shows potential but fails on map-reduce"
   ]
  },
  {
   "cell_type": "code",
   "execution_count": 29,
   "metadata": {},
   "outputs": [],
   "source": [
    "SUMMARY_SAVE_DIR = Path(\"data\", \"summaries\")\n",
    "DATA_DIR = Path(\"data\", \"raw\")\n",
    "toc_2015_fname = Path(DATA_DIR, \"Jan 2015.docx\")\n",
    "toc_2023_fname = Path(DATA_DIR, \"Mar 2023.docx\")\n",
    "loader_2015 = Docx2txtLoader(str(toc_2015_fname))  # str reqd for loader\n",
    "data_2015 = loader_2015.load()\n",
    "loader_2023 = Docx2txtLoader(str(toc_2023_fname))\n",
    "data_2023 = loader_2023.load()"
   ]
  },
  {
   "cell_type": "markdown",
   "metadata": {},
   "source": [
    "## Map Reduce Template"
   ]
  },
  {
   "cell_type": "code",
   "execution_count": 30,
   "metadata": {},
   "outputs": [],
   "source": [
    "# Map\n",
    "map_template = \"\"\"\n",
    "Write a concise summary of the following:\n",
    "\"{docs}\"\n",
    "CONCISE SUMMARY:\n",
    "\"\"\"\n",
    "\n",
    "# Reduce\n",
    "reduce_template = \"\"\"Write a concise summary of the following text delimited by triple backquotes.\n",
    "Return your response in bullet points which covers the key points of the text.\n",
    "```{doc_summaries}```\n",
    "BULLET POINT SUMMARY:\"\"\""
   ]
  },
  {
   "cell_type": "markdown",
   "metadata": {},
   "source": [
    "## facebook/bart-large-cnn"
   ]
  },
  {
   "cell_type": "code",
   "execution_count": 38,
   "metadata": {},
   "outputs": [],
   "source": [
    "MODEL = \"facebook/bart-large-cnn\""
   ]
  },
  {
   "cell_type": "code",
   "execution_count": 44,
   "metadata": {},
   "outputs": [],
   "source": [
    "llm = HuggingFaceHub(repo_id=MODEL, model_kwargs={\"temperature\": 0, \"max_length\": 1000})"
   ]
  },
  {
   "cell_type": "code",
   "execution_count": 45,
   "metadata": {},
   "outputs": [],
   "source": [
    "tokenizer = AutoTokenizer.from_pretrained(MODEL)\n",
    "\n",
    "text_splitter = CharacterTextSplitter.from_huggingface_tokenizer(\n",
    "    tokenizer=tokenizer, chunk_size=4000, chunk_overlap=0\n",
    ")\n",
    "split_2015 = text_splitter.split_documents(data_2015)\n",
    "split_2023 = text_splitter.split_documents(data_2023)"
   ]
  },
  {
   "cell_type": "code",
   "execution_count": 46,
   "metadata": {},
   "outputs": [],
   "source": [
    "map_prompt = PromptTemplate.from_template(map_template)\n",
    "map_chain = LLMChain(llm=llm, prompt=map_prompt)\n",
    "\n",
    "# Run chain\n",
    "reduce_prompt = PromptTemplate.from_template(reduce_template)\n",
    "reduce_chain = LLMChain(llm=llm, prompt=reduce_prompt)\n",
    "\n",
    "# Takes a list of documents, combines them into a single string, and passes this to an LLMChain\n",
    "combine_documents_chain = StuffDocumentsChain(\n",
    "    llm_chain=reduce_chain, document_variable_name=\"doc_summaries\"\n",
    ")\n",
    "\n",
    "# Combines and iteravely reduces the mapped documents\n",
    "reduce_documents_chain = ReduceDocumentsChain(\n",
    "    # This is final chain that is called.\n",
    "    combine_documents_chain=combine_documents_chain,\n",
    "    # If documents exceed context for `StuffDocumentsChain`\n",
    "    collapse_documents_chain=combine_documents_chain,\n",
    "    # The maximum number of tokens to group documents into.\n",
    "    token_max=4000,\n",
    ")\n",
    "\n",
    "# Combining documents by mapping a chain over them, then combining results\n",
    "map_reduce_chain = MapReduceDocumentsChain(\n",
    "    # Map chain\n",
    "    llm_chain=map_chain,\n",
    "    # Reduce chain\n",
    "    reduce_documents_chain=reduce_documents_chain,\n",
    "    # The variable name in the llm_chain to put the documents in\n",
    "    document_variable_name=\"docs\",\n",
    "    # Return the results of the map steps in the output\n",
    "    return_intermediate_steps=False,\n",
    ")"
   ]
  },
  {
   "cell_type": "code",
   "execution_count": 47,
   "metadata": {},
   "outputs": [],
   "source": [
    "output_map_reduce_15 = map_reduce_chain.run(split_2015)\n",
    "output_map_reduce_23 = map_reduce_chain.run(split_2023)"
   ]
  },
  {
   "cell_type": "code",
   "execution_count": 48,
   "metadata": {},
   "outputs": [
    {
     "data": {
      "text/plain": [
       "'You agree that you will pay for all products you purchase through the Stores. You agree to receipt of all invoices in an electronic format, which may include email. You are responsible for the timely payment of all fees and for providing iTunes with a valid payment method. Your total price will include the price of the product plus any applicable VAT.'"
      ]
     },
     "execution_count": 48,
     "metadata": {},
     "output_type": "execute_result"
    }
   ],
   "source": [
    "output_map_reduce_15"
   ]
  },
  {
   "cell_type": "code",
   "execution_count": 49,
   "metadata": {},
   "outputs": [
    {
     "data": {
      "text/plain": [
       "'Apple Media Services Terms and Conditions create a contract between you and Apple (the “Agreement”). Please read the Agreement carefully. Write a concise summary of the following text delimited by triple backquotes. Return your response in bullet points which covers the key points of the text.'"
      ]
     },
     "execution_count": 49,
     "metadata": {},
     "output_type": "execute_result"
    }
   ],
   "source": [
    "output_map_reduce_23"
   ]
  },
  {
   "cell_type": "code",
   "execution_count": null,
   "metadata": {},
   "outputs": [],
   "source": []
  }
 ],
 "metadata": {
  "kernelspec": {
   "display_name": ".venv",
   "language": "python",
   "name": "python3"
  },
  "language_info": {
   "codemirror_mode": {
    "name": "ipython",
    "version": 3
   },
   "file_extension": ".py",
   "mimetype": "text/x-python",
   "name": "python",
   "nbconvert_exporter": "python",
   "pygments_lexer": "ipython3",
   "version": "3.11.4"
  }
 },
 "nbformat": 4,
 "nbformat_minor": 2
}
