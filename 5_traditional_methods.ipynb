{
 "cells": [
  {
   "cell_type": "code",
   "execution_count": 23,
   "metadata": {},
   "outputs": [],
   "source": [
    "from pathlib import Path\n",
    "from langchain.document_loaders import Docx2txtLoader\n",
    "from sumy.parsers.plaintext import PlaintextParser\n",
    "from sumy.nlp.tokenizers import Tokenizer\n",
    "from sumy.summarizers.lex_rank import LexRankSummarizer\n",
    "from sumy.summarizers.lsa import LsaSummarizer\n",
    "from sumy.summarizers.kl import KLSummarizer\n",
    "from sumy.summarizers.luhn import LuhnSummarizer"
   ]
  },
  {
   "cell_type": "code",
   "execution_count": 8,
   "metadata": {},
   "outputs": [],
   "source": [
    "SUMMARY_SAVE_DIR = Path(\"data\", \"summaries\")\n",
    "DATA_DIR = Path(\"data\", \"raw\")\n",
    "toc_2015_fname = Path(DATA_DIR, \"Jan 2015.docx\")\n",
    "toc_2023_fname = Path(DATA_DIR, \"Mar 2023.docx\")\n",
    "\n",
    "loader_2015 = Docx2txtLoader(str(toc_2015_fname))  # str reqd for loader\n",
    "data_2015 = loader_2015.load()\n",
    "loader_2023 = Docx2txtLoader(str(toc_2023_fname))\n",
    "data_2023 = loader_2023.load()\n",
    "\n",
    "text_2015 = data_2015[0].page_content\n",
    "text_2023 = data_2023[0].page_content"
   ]
  },
  {
   "cell_type": "markdown",
   "metadata": {},
   "source": [
    "# LexRank"
   ]
  },
  {
   "cell_type": "code",
   "execution_count": 13,
   "metadata": {},
   "outputs": [],
   "source": [
    "my_parser = PlaintextParser.from_string(text_2015, Tokenizer(\"english\"))"
   ]
  },
  {
   "cell_type": "code",
   "execution_count": 16,
   "metadata": {},
   "outputs": [
    {
     "name": "stdout",
     "output_type": "stream",
     "text": [
      "You agree that you will pay for all products you purchase through the Stores, and that iTunes may charge your payment method for any products purchased and for any additional amounts (including any taxes and late fees, as applicable) that may be accrued by or in connection with your Account.\n",
      "Family Sharing allows you to share eligible iTunes, App Store, Mac App Store, and iBooks Store products with up to six members (including yourself) of a “Family.” If you set up or join a Family, you may view the eligible products of other Family members and download such products to your compatible device or computer.\n",
      "Some iTunes Eligible Content that you previously acquired may not be available for subsequent download at any given time, and iTunes shall have no liability to you in such event.\n",
      "When you use iTunes Match, Genius will begin associating information about the media in your iTunes library with your Account; the association with your Account will continue for a period of time after your subscription ends.\n",
      "You agree that iTunes is not responsible for examining or evaluating the content or accuracy and iTunes does not warrant and will not have any liability or responsibility for any third-party materials or websites, or for any other materials, products, or services of third parties.\n",
      "You agree that you will not use any third-party materials in a manner that would infringe or violate the rights of any other party and that iTunes is not in any way responsible for any such use by you.\n",
      "You agree that you will not use such proprietary information or materials in any way whatsoever except for use of the Service in compliance with this Agreement.\n",
      "You agree that you will not use album cover art in any manner that would infringe or violate this Agreement or the rights of any other party, and that iTunes is not in any way responsible for any such use by you.\n",
      "If you fail, or iTunes has strong grounds to believe that you have failed, to comply with any of the provisions of this Agreement, iTunes, at its sole discretion, without notice to you may: (i) terminate this Agreement and/or your Account, and you will remain liable for all amounts due under your Account up to and including the date of termination; and/or (ii) cause the license to the software to be terminated; and/or (iii) preclude access to the Service (or any part thereof).\n",
      "You agree that iTunes has the right, without liability to you, to disclose any Registration Data and/or Account information to law enforcement authorities, government officials, and/or a third party, as iTunes believes is reasonably necessary or appropriate to enforce and/or verify compliance with any part of this Agreement (including but not limited to iTunes’ right to cooperate with any legal process relating to your use of the Service and/or iTunes Products, and/or a third-party claim that your use of the Service and/or iTunes Products is unlawful and/or infringes such third party's rights).\n",
      "The latest versions of required software (including, but not limited to, iTunes and Mac App Store software) are recommended to access the Stores and may be required for certain transactions or features and to download Products previously purchased or acquired from the Stores.\n",
      "Some Eligible Content that you previously acquired may not be available for subsequent download at any given time, and iTunes shall have no liability to you in such event.\n",
      "You agree that iTunes is not responsible for examining or evaluating the content or accuracy and iTunes does not warrant and will not have any liability or responsibility for any third-party materials or websites, or for any other materials, products, or services of third parties.\n",
      "You agree that you will not use any third-party materials in a manner that would infringe or violate the rights of any other party and that iTunes is not in any way responsible for any such use by you.\n",
      "You agree that you will not use such proprietary information or materials in any way whatsoever except for use of the Stores in compliance with this Agreement.\n",
      "If you fail, or iTunes has strong grounds to believe that you have failed, to comply with any of the provisions of this Agreement, iTunes, at its sole discretion, without notice to you may: (i) terminate this Agreement and/or your Account, and you will remain liable for all amounts due under your Account up to and including the date of termination; and/or (ii) cause the license to the software to be terminated; and/or (iii) preclude access to the Stores (or any part thereof).\n",
      "You agree that iTunes has the right, without liability to you, to disclose any Registration Data and/or Account information to law enforcement authorities, government officials, and/or a third party, as iTunes believes is reasonably necessary or appropriate to enforce and/or verify compliance with any part of this Agreement (including but not limited to iTunes’ right to cooperate with any legal process relating to your use of the Stores and/or Products, and/or a third-party claim that your use of the Stores and/or Products is unlawful and/or infringes such third party's rights).\n",
      "Scope of License: This licence granted to you for the Licensed Application by Licensor is limited to a nontransferable license to use the Licensed Application on any Apple-branded products running iOS (including but not limited to iPad, iPhone, and iPod touch) (“iOS Devices”) or Mac OS X (“Mac Computers”), as applicable (collectively, “Apple Devices”) that you own or control and as permitted by the Usage Rules set forth in the Mac App Store, App Store and iBooks Store Terms and Conditions (the “Usage Rules”).\n",
      "This licence does not allow you to use the Licensed Application on any Apple Device that you do not own or control, and, except as provided in the Usage Rules, you may not distribute or make the Licensed Application available over a network where it could be used by multiple devices at the same time.\n",
      "You agree that the External Services contain proprietary content, information and material that is owned by Licensor and/or its agents or licensors, and is protected by applicable intellectual property and other laws, including but not limited to copyright, and that you will not use such proprietary content, information or materials in any way whatsoever except for permitted use of the External Services or in any manner that is inconsistent with the terms of this Standard EULA or that infringes any intellectual property rights of a third party, iTunes or Apple.\n"
     ]
    }
   ],
   "source": [
    "lex_rank_summarizer = LexRankSummarizer()\n",
    "lexrank_summary = lex_rank_summarizer(my_parser.document, sentences_count=20)\n",
    "\n",
    "# Printing the summary\n",
    "for sentence in lexrank_summary:\n",
    "    print(sentence)"
   ]
  },
  {
   "cell_type": "markdown",
   "metadata": {},
   "source": [
    "## LSA (Latent semantic analysis)"
   ]
  },
  {
   "cell_type": "code",
   "execution_count": 19,
   "metadata": {},
   "outputs": [
    {
     "name": "stdout",
     "output_type": "stream",
     "text": [
      "By using the United Kingdom store you are specifying that as your country of residence for tax purposes.\n",
      "Risk of loss and title for Content Codes that are transmitted electronically pass from iTunes in Luxembourg upon electronic transmission.\n",
      "Symptoms may include dizziness, nausea, involuntary movements, loss of awareness, altered vision, tingling, numbness, or other discomforts.\n",
      "iTunes is not responsible for any harm resulting from a delay in Ask to Buy approvals or denials.\n",
      "Accounts for persons under 13 years old can be created by a parent or legal guardian using Family Sharing.\n",
      "During this time, you will be able to purchase and download iTunes Products without re-entering your password.\n",
      "You agree to provide accurate and complete information in connection with your submission of any materials on the Service.\n",
      "You shall be responsible for backing up your own system, including any iTunes Products purchased, acquired or rented from the Service.\n",
      "Accounts for persons under 13 years can be created by a parent or legal guardian using Family Sharing.\n",
      "During this time, you will be able to purchase and download App Store Products without re-entering your password.\n",
      "Except as otherwise stated in this Agreement, the Stores are subject to Apple's Privacy Policy at http://www.apple.com/uk/privacy/.\n",
      "You agree to provide accurate and complete information in connection with your submission of any materials on the Stores.\n",
      "You shall be responsible for backing up your own system, including any Products purchased or acquired from the Stores.\n",
      "Certain App Store Products may include functionality that enables you to acquire content on a subscription basis (“In-App Subscriptions”).\n",
      "For the sake of clarity, each Mac Computer used serially by multiple users requires a separate licence.\n",
      "For the sake of clarity, each iOS Device used serially by multiple users requires a separate licence.\n",
      "Financial information displayed by any External Service is for general informational purposes only and should not be relied on as investment advice.\n",
      "The Licensor makes no representation that such External Services and Materials are appropriate or available for use in any particular location.\n",
      "(ii) the External Services will be free from loss, corruption, attack, viruses, interference, hacking, or other security intrusion, and Licensor disclaims any liability relating thereto.\n",
      "Your use of the Licensed Application may also be subject to other local, state, national, or international laws.\n"
     ]
    }
   ],
   "source": [
    "lsa_summarizer = LsaSummarizer()\n",
    "lsa_summary = lsa_summarizer(my_parser.document, 20)\n",
    "\n",
    "# Printing the summary\n",
    "for sentence in lsa_summary:\n",
    "    print(sentence)"
   ]
  },
  {
   "cell_type": "markdown",
   "metadata": {},
   "source": [
    "## Luhn"
   ]
  },
  {
   "cell_type": "code",
   "execution_count": 22,
   "metadata": {},
   "outputs": [
    {
     "name": "stdout",
     "output_type": "stream",
     "text": [
      "Gift Certificates, iTunes Cards and Codes, Content Codes, and Allowances, in addition to unused balances, are not redeemable for cash and, cannot be returned for a cash refund (except as set out in our refund policy above that is applicable in the event the item has been purchased from the iTunes Store; or except if the retailer from which the item has been purchased applies a different refund policy), without prejudice to any applicable statutory right to a refund in case of faulty or misdescribed gifts; exchanged; resold; used to purchase Gifts, Gift Certificates, or iTunes Cards or Codes; used to provide Allowances; used for purchases on the Apple Online Store; or used in Apple Retail Stores.\n",
      "When a Family member leaves or is removed from a Family, or the Organiser's Apple ID is terminated for any reason, the remaining Family members may no longer be able to view or download the departing member’s products or information, or access products previously downloaded from the departing Family member, including purchases made on the Organiser's payment method while the departing member was part of the Family.\n",
      "When you first acquire music, purchased (i.e. not rented) movie, TV show and music video iTunes Products (collectively, “iTunes Eligible Content”), you may elect to automatically receive (“auto-download”) copies of such iTunes Eligible Content on additional compatible iOS Devices (except for purchased movies and TV show iTunes Products) and iTunes-authorized computers with compatible software by associating such iOS Devices and computers subject to the association rules below (each, an “Associated Device”).\n",
      "Association of Associated Devices for iTunes Match is subject to the same terms as Automatic Delivery and Downloading Previous Purchases, and uploaded or matched songs and related information are deemed to be “iTunes Eligible Content.” You may also access iTunes Match Content from compatible Apple TVs, provided that you may only do so on a limited number of Apple TVs at the same time.\n",
      "You understand that the Service and certain iTunes Products include a security framework using technology that protects digital information and limits your use of iTunes Products to certain usage rules (“Security Framework”) established by iTunes and its licensors and that, whether or not iTunes Products are limited by security technology, you shall use iTunes Products in compliance with the applicable usage rules established by iTunes and its licensors (“Usage Rules”), and that any other use of the iTunes Products may constitute a copyright infringement.\n",
      "(iii) You shall be able to store iTunes Products from up to five different Accounts at a time on compatible devices, such as an iPad, iPod, iPhone and Apple TV, provided that each iPhone may sync tone iTunes Products with only a single iTunes-authorised device at a time, and syncing an iPhone with a different iTunes-authorised device will cause tone iTunes Products stored on that iPhone to be erased.\n",
      "(vii) You shall be able to manually sync a film from at least one iTunes-authorised device to devices that have manual sync mode, provided that the film is associated with an Account on the primary iTunes-authorised device, where the primary iTunes-authorised device is the one that was first synced with the device or the one that you subsequently designate as primary using the iTunes application.\n",
      "If you fail, or iTunes has strong grounds to believe that you have failed, to comply with any of the provisions of this Agreement, iTunes, at its sole discretion, without notice to you may: (i) terminate this Agreement and/or your Account, and you will remain liable for all amounts due under your Account up to and including the date of termination; and/or (ii) cause the license to the software to be terminated; and/or (iii) preclude access to the Service (or any part thereof).\n",
      "You agree that iTunes has the right, without liability to you, to disclose any Registration Data and/or Account information to law enforcement authorities, government officials, and/or a third party, as iTunes believes is reasonably necessary or appropriate to enforce and/or verify compliance with any part of this Agreement (including but not limited to iTunes’ right to cooperate with any legal process relating to your use of the Service and/or iTunes Products, and/or a third-party claim that your use of the Service and/or iTunes Products is unlawful and/or infringes such third party's rights).\n",
      "You understand that the Stores and certain Products include a security framework using technology that protects digital information and limits your use of Products to certain usage rules (“Security Framework”) established by iTunes and the Publishers and that, whether or not Products are limited by security technology, you shall use Products in compliance with the applicable usage rules established by iTunes and the Publishers (“Usage Rules”), and that any other use of the Products may constitute a copyright infringement.\n",
      "If you fail, or iTunes has strong grounds to believe that you have failed, to comply with any of the provisions of this Agreement, iTunes, at its sole discretion, without notice to you may: (i) terminate this Agreement and/or your Account, and you will remain liable for all amounts due under your Account up to and including the date of termination; and/or (ii) cause the license to the software to be terminated; and/or (iii) preclude access to the Stores (or any part thereof).\n",
      "You agree that iTunes has the right, without liability to you, to disclose any Registration Data and/or Account information to law enforcement authorities, government officials, and/or a third party, as iTunes believes is reasonably necessary or appropriate to enforce and/or verify compliance with any part of this Agreement (including but not limited to iTunes’ right to cooperate with any legal process relating to your use of the Stores and/or Products, and/or a third-party claim that your use of the Stores and/or Products is unlawful and/or infringes such third party's rights).\n",
      "Your license to each App Store Product is subject to the Licensed Application End User License Agreement set forth below, and you agree that such terms will apply unless the App Store Product is covered by a valid end user license agreement entered into between you and the publisher of that App Store Product (the “Publisher”), in which case the Publisher’s end user license agreement will apply to that App Store Product.\n",
      "(iv) You shall be able to manually sync App Store Products from at least one iTunes-authorised device to iOS Devices that have manual sync mode, provided that the App Store Product is associated with an Account on the primary iTunes-authorised device, where the primary iTunes-authorised device is the one that was first synced with the iOS Device or the one that you subsequently designate as primary using the iTunes application.\n",
      "Your licence to each App Store Product that you obtain through the App Stores or associate with your Account is subject to your prior acceptance of this Licensed Application End User Licence Agreement (“Standard EULA”), and you agree that the terms of this Standard EULA will apply to each App Store Product that you license through the App Stores, unless that App Store Product is covered by a valid end user licence agreement entered into between you and the Publisher of that App Store Product, in which case the terms of that separate end user licence agreement will govern.\n",
      "Scope of License: This licence granted to you for the Licensed Application by Licensor is limited to a nontransferable license to use the Licensed Application on any Apple-branded products running iOS (including but not limited to iPad, iPhone, and iPod touch) (“iOS Devices”) or Mac OS X (“Mac Computers”), as applicable (collectively, “Apple Devices”) that you own or control and as permitted by the Usage Rules set forth in the Mac App Store, App Store and iBooks Store Terms and Conditions (the “Usage Rules”).\n",
      "You may not copy (except as expressly permitted by this licence and the Usage Rules), decompile, reverse-engineer, disassemble, attempt to derive the source code of, modify, or create derivative works of the Licensed Application, any updates, or any part thereof (except as and only to the extent that any foregoing restriction is prohibited by applicable law or to the extent as may be permitted by the licensing terms governing use of any open-sourced components included with the Licensed Application).\n",
      "You agree that the External Services contain proprietary content, information and material that is owned by Licensor and/or its agents or licensors, and is protected by applicable intellectual property and other laws, including but not limited to copyright, and that you will not use such proprietary content, information or materials in any way whatsoever except for permitted use of the External Services or in any manner that is inconsistent with the terms of this Standard EULA or that infringes any intellectual property rights of a third party, iTunes or Apple.\n",
      "Once purchased from iTunes, that licence forms a binding agreement directly between you and the third-party publisher of that iBooks Store Product (the “Publisher”) governing your use of that iBooks Store Product; iTunes is not a party to the licence between you and the Publisher with respect to that iBooks Store Product; and the Publisher of each iBooks Store Product reserves the right to enforce the terms of use relating to that iBooks Store Product.\n",
      "(v) You shall be able to manually sync iBooks Store Products from at least one iTunes-authorised device to devices that have manual sync mode, provided that the iBooks Store Product is associated with an Account on the primary iTunes-authorised device, where the primary iTunes-authorised device is the one that was first synced with the device or the one that you subsequently designate as primary using iTunes.\n"
     ]
    }
   ],
   "source": [
    "luhn_summarizer = LuhnSummarizer()\n",
    "luhn_summary = luhn_summarizer(my_parser.document, sentences_count=20)\n",
    "\n",
    "# Printing the summary\n",
    "for sentence in luhn_summary:\n",
    "    print(sentence)"
   ]
  },
  {
   "cell_type": "markdown",
   "metadata": {},
   "source": [
    "## KL-Sum"
   ]
  },
  {
   "cell_type": "code",
   "execution_count": 24,
   "metadata": {},
   "outputs": [
    {
     "name": "stdout",
     "output_type": "stream",
     "text": [
      "1-Click®\n",
      "Certain transactions and features may not be compatible with earlier software and may require a software upgrade.\n",
      "• Provide you with recommendations regarding media and other products and services that you may wish to purchase or acquire.\n",
      "• http://www.prsformusic.com\n",
      "You shall not access or attempt to access an Account that you are not authorised to access.\n",
      "Refunds are available as set out in our refund policy above;.\n",
      "App Store Products and iBooks Store Products shall be referred to together as “Products”.\n",
      "High-speed Internet access is strongly recommended.\n",
      "You shall not access or attempt to access an Account that you are not authorised to access.\n",
      "You also may be subject to additional terms and conditions that may apply when you use affiliate services, certain Products, third-party content, or third-party software.\n",
      "• Provide you with recommendations regarding App Store Products, media, and other products and services that you may wish to purchase, download, or use.\n",
      "a.\n",
      "If you breach this restriction, you may be subject to prosecution and damages.\n",
      "Licensor may use this information, as long as it is in a form that does not personally identify you, to improve its products or to provide services or technologies to you.\n",
      "c. Termination.\n",
      "Third Party Materials and links to other websites are provided solely as a convenience to you.\n",
      "§12.212 or 48 C.F.R.\n",
      "§227.7202, as applicable.\n",
      "Consistent with 48 C.F.R.\n",
      "§12.212 or 48 C.F.R.\n"
     ]
    }
   ],
   "source": [
    "kl_summarizer = KLSummarizer()\n",
    "kl_summary = kl_summarizer(my_parser.document, sentences_count=20)\n",
    "\n",
    "for sentence in kl_summary:\n",
    "    print(sentence)"
   ]
  },
  {
   "cell_type": "code",
   "execution_count": null,
   "metadata": {},
   "outputs": [],
   "source": []
  }
 ],
 "metadata": {
  "kernelspec": {
   "display_name": ".venv",
   "language": "python",
   "name": "python3"
  },
  "language_info": {
   "codemirror_mode": {
    "name": "ipython",
    "version": 3
   },
   "file_extension": ".py",
   "mimetype": "text/x-python",
   "name": "python",
   "nbconvert_exporter": "python",
   "pygments_lexer": "ipython3",
   "version": "3.11.4"
  }
 },
 "nbformat": 4,
 "nbformat_minor": 2
}
