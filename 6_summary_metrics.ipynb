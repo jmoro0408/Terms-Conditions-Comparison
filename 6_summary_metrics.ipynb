{
 "cells": [
  {
   "cell_type": "code",
   "execution_count": 77,
   "metadata": {},
   "outputs": [],
   "source": [
    "from pathlib import Path\n",
    "from dotenv import load_dotenv\n",
    "from langchain.document_loaders import Docx2txtLoader\n",
    "import chromadb\n",
    "from langchain.embeddings.openai import OpenAIEmbeddings\n",
    "from langchain.vectorstores import Chroma\n"
   ]
  },
  {
   "cell_type": "code",
   "execution_count": 45,
   "metadata": {},
   "outputs": [
    {
     "data": {
      "text/plain": [
       "True"
      ]
     },
     "execution_count": 45,
     "metadata": {},
     "output_type": "execute_result"
    }
   ],
   "source": [
    "load_dotenv()"
   ]
  },
  {
   "cell_type": "markdown",
   "metadata": {},
   "source": [
    "# Load Documents"
   ]
  },
  {
   "cell_type": "code",
   "execution_count": 82,
   "metadata": {},
   "outputs": [],
   "source": [
    "def read_file(input_fname):\n",
    "    with open(input_fname, \"r\", encoding = 'utf-8') as f:\n",
    "        return f.read()"
   ]
  },
  {
   "cell_type": "code",
   "execution_count": 75,
   "metadata": {},
   "outputs": [],
   "source": [
    "DATA_DIR = Path(\"data\", \"raw\")\n",
    "SUMMARIES_DIR = Path('data', 'summaries')\n",
    "toc_2015_fname = Path(DATA_DIR, \"Jan 2015.docx\")\n",
    "toc_2023_fname = Path(DATA_DIR, \"Mar 2023.docx\")\n",
    "# Get all diference summaries\n",
    "\n",
    "sections_2015_fname = Path(SUMMARIES_DIR, \"2015_sections_summary.txt\")\n",
    "sections_2023_fname = Path(SUMMARIES_DIR,  \"2023_sections_summary.txt\")\n",
    "\n",
    "bart_2015 =  Path(SUMMARIES_DIR, \"bart_large_2015_summary.txt\")\n",
    "bart_2023 = Path(SUMMARIES_DIR,  \"bart_large_2023_summary.txt\")\n",
    "\n",
    "davinci_2015 =  Path(SUMMARIES_DIR, \"davinci_map_reduce_summarized_2015.txt\")\n",
    "davinci_2023 = Path(SUMMARIES_DIR,  \"davinci_map_reduce_summarized_2023.txt\")\n",
    "\n",
    "gpt4_2015 =  Path(SUMMARIES_DIR, \"gpt4_map_reduce_summarized_2015.txt\")\n",
    "gpt4_2023 = Path(SUMMARIES_DIR,  \"gpt4_map_reduce_summarized_2023.txt\")\n",
    "\n",
    "vectors_2015 =  Path(SUMMARIES_DIR, \"vector_2015_summary.txt\")\n",
    "vectors_2023 = Path(SUMMARIES_DIR,  \"vector_2023_summary.txt\")"
   ]
  },
  {
   "cell_type": "code",
   "execution_count": 80,
   "metadata": {},
   "outputs": [],
   "source": [
    "summary_names = ['sections_2015', \n",
    "                 'sections_2023', \n",
    "                 'bart_2015', \n",
    "                 'bart_2023', \n",
    "                 'davinci_2015', \n",
    "                 'davinci_2023',\n",
    "                 'gpt_2015', \n",
    "                 'gpt_2023', \n",
    "                 'vectors_2015',\n",
    "                 'vectors_2023']\n",
    "\n",
    "summary_fnames = [sections_2015_fname, \n",
    "                  sections_2023_fname, \n",
    "                  bart_2015,\n",
    "                  bart_2023, \n",
    "                  davinci_2015, \n",
    "                  davinci_2023, \n",
    "                  gpt4_2015, \n",
    "                  gpt4_2023, \n",
    "                  vectors_2015, \n",
    "                  vectors_2023]"
   ]
  },
  {
   "cell_type": "code",
   "execution_count": 83,
   "metadata": {},
   "outputs": [],
   "source": [
    "# Dict with keys as summary names and values as summary text\n",
    "summaries_dict = {}\n",
    "for name, fname in zip(summary_names, summary_fnames):\n",
    "    summaries_dict[name] = read_file(fname)"
   ]
  },
  {
   "cell_type": "code",
   "execution_count": 49,
   "metadata": {},
   "outputs": [],
   "source": [
    "loader_2015 = Docx2txtLoader(str(toc_2015_fname))  # str reqd for loader\n",
    "data_2015 = loader_2015.load()\n",
    "loader_2023 = Docx2txtLoader(str(toc_2023_fname))\n",
    "data_2023 = loader_2023.load()"
   ]
  },
  {
   "cell_type": "markdown",
   "metadata": {},
   "source": [
    "# Embeddings"
   ]
  },
  {
   "cell_type": "code",
   "execution_count": 88,
   "metadata": {},
   "outputs": [],
   "source": [
    "embeddings = OpenAIEmbeddings()\n",
    "db_2015= Chroma.from_documents(data_2015, embeddings, persist_directory=\"./chroma_db\",collection_name=\"2015_collection\")\n",
    "db_2023 = Chroma.from_documents(data_2023, embeddings, persist_directory=\"./chroma_db\",collection_name=\"2023_collection\")\n"
   ]
  },
  {
   "cell_type": "markdown",
   "metadata": {},
   "source": [
    "The returned distance score is cosine distance. Therefore, a lower score is better."
   ]
  },
  {
   "cell_type": "code",
   "execution_count": 86,
   "metadata": {},
   "outputs": [],
   "source": [
    "def get_cosine_score(db:Chroma, query:str ) -> float:\n",
    "    return db.similarity_search_with_score(query, k = 1)[0][1]"
   ]
  },
  {
   "cell_type": "code",
   "execution_count": 91,
   "metadata": {},
   "outputs": [],
   "source": [
    "scores = {}\n",
    "for name, text in summaries_dict.items():\n",
    "    if '2015' in name:\n",
    "        scores[name] = get_cosine_score(db_2015, text)\n",
    "    elif '2023' in name:\n",
    "        scores[name] = get_cosine_score(db_2023, text)\n",
    "    else:\n",
    "        'Please update fname to include 2015 or 2023'"
   ]
  },
  {
   "cell_type": "code",
   "execution_count": 92,
   "metadata": {},
   "outputs": [
    {
     "data": {
      "text/plain": [
       "{'sections_2015': 0.13150725406001215,\n",
       " 'sections_2023': 0.1009054191913468,\n",
       " 'bart_2015': 0.3277767874915742,\n",
       " 'bart_2023': 0.15002867243160461,\n",
       " 'davinci_2015': 0.14972689987933305,\n",
       " 'davinci_2023': 0.16909702760303102,\n",
       " 'gpt_2015': 0.13398331336445812,\n",
       " 'gpt_2023': 0.1306894823900674,\n",
       " 'vectors_2015': 0.22299383923891755,\n",
       " 'vectors_2023': 0.19667902694552447}"
      ]
     },
     "execution_count": 92,
     "metadata": {},
     "output_type": "execute_result"
    }
   ],
   "source": [
    "scores"
   ]
  },
  {
   "cell_type": "code",
   "execution_count": null,
   "metadata": {},
   "outputs": [],
   "source": []
  }
 ],
 "metadata": {
  "kernelspec": {
   "display_name": ".venv",
   "language": "python",
   "name": "python3"
  },
  "language_info": {
   "codemirror_mode": {
    "name": "ipython",
    "version": 3
   },
   "file_extension": ".py",
   "mimetype": "text/x-python",
   "name": "python",
   "nbconvert_exporter": "python",
   "pygments_lexer": "ipython3",
   "version": "3.11.4"
  }
 },
 "nbformat": 4,
 "nbformat_minor": 2
}
