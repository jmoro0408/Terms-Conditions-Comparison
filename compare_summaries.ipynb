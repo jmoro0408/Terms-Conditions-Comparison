{
 "cells": [
  {
   "cell_type": "code",
   "execution_count": 1,
   "metadata": {},
   "outputs": [],
   "source": [
    "from pathlib import Path\n",
    "from langchain.schema import Document\n",
    "from langchain.chat_models import ChatOpenAI\n",
    "from langchain.llms import OpenAI\n",
    "from langchain.chains.llm import LLMChain\n",
    "from langchain.prompts import (\n",
    "    PromptTemplate,\n",
    "    SystemMessagePromptTemplate,\n",
    "    ChatPromptTemplate,\n",
    ")"
   ]
  },
  {
   "cell_type": "code",
   "execution_count": 2,
   "metadata": {},
   "outputs": [],
   "source": [
    "llm3 = ChatOpenAI(temperature=0, max_tokens=2000, model=\"gpt-3.5-turbo\")\n",
    "llm3_16 = ChatOpenAI(temperature=0, max_tokens=7000, model=\"gpt-3.5-turbo-16k\")\n",
    "\n",
    "davinci = OpenAI(temperature=0, max_tokens=2000, model=\"text-davinci-003\")\n",
    "\n",
    "davinci16k = OpenAI(temperature=0, max_tokens=2000, model=\"davinci-002\")\n",
    "\n",
    "# llm = OpenAI(model_name=\"gpt-3.5-turbo\", temperature=0)"
   ]
  },
  {
   "cell_type": "markdown",
   "metadata": {},
   "source": [
    "# Map reduce"
   ]
  },
  {
   "cell_type": "code",
   "execution_count": 3,
   "metadata": {},
   "outputs": [],
   "source": [
    "map_reduce_2015_fname = \"map_reduce_summarized_2015.txt\"\n",
    "map_reduce_2023_fname = \"map_reduce_summarized_2023.txt\""
   ]
  },
  {
   "cell_type": "code",
   "execution_count": 4,
   "metadata": {},
   "outputs": [],
   "source": [
    "with open(map_reduce_2015_fname, \"r\") as f:\n",
    "    map_reduce_2015 = f.read()\n",
    "\n",
    "with open(map_reduce_2023_fname, \"r\") as f:\n",
    "    map_reduce_2023 = f.read()"
   ]
  },
  {
   "cell_type": "markdown",
   "metadata": {},
   "source": [
    "## Option 1 - two inputs\n",
    "### GPT3"
   ]
  },
  {
   "cell_type": "code",
   "execution_count": 10,
   "metadata": {},
   "outputs": [],
   "source": [
    "from langchain.prompts import PromptTemplate\n",
    "\n",
    "prompt = PromptTemplate(\n",
    "    template=\"\"\"Find key differences between the following texts, specified by three \n",
    "    backticks highlighting specifically when items exist in \n",
    "    one and not the other.\n",
    "    ```Text 1: {text_2015}```\n",
    "    ```Text 2: {text_2023}```\n",
    "    \"\"\",\n",
    "    input_variables=[\"text_2015\", \"text_2023\"],\n",
    ")\n",
    "\n",
    "\n",
    "chat_prompt_with_values = prompt.format_prompt(\n",
    "    text_2015=map_reduce_2015, text_2023=map_reduce_2023\n",
    ")\n",
    "\n",
    "chat_prompt_with_values.to_messages()\n",
    "response = llm3(chat_prompt_with_values.to_messages()).content"
   ]
  },
  {
   "cell_type": "code",
   "execution_count": 12,
   "metadata": {},
   "outputs": [
    {
     "name": "stdout",
     "output_type": "stream",
     "text": [
      "The key differences between the two texts are as follows:\n",
      "\n",
      "1. Text 1 includes the following information that is not present in Text 2:\n",
      "- Users are responsible for paying for all purchases made through the stores and iTunes may charge their payment method for these purchases.\n",
      "- Users are not allowed to modify, sell, distribute, or create derivative works based on the Service.\n",
      "- Users may automatically download and access previously purchased content on multiple devices.\n",
      "- Users are bound by the usage rules and security framework established by iTunes and the Publishers.\n",
      "- iTunes may modify the agreement and impose new terms or conditions at any time.\n",
      "- Users must be at least 13 years old to create an account and are responsible for maintaining the security of their account.\n",
      "- Users are not allowed to violate or tamper with the security framework or access the stores in any unauthorized way.\n",
      "- Users are responsible for any materials they submit and must not infringe on the rights of others or engage in unlawful conduct.\n",
      "- iTunes has the right to monitor and take action against any violations.\n",
      "- Users may encounter objectionable content and use the Stores at their own risk.\n",
      "- Users are liable for any breaches of this agreement and iTunes has the right to terminate the agreement or access to the Stores.\n",
      "- iTunes does not provide any warranties and is not liable for any loss or damage caused by the use of the Stores.\n",
      "- iTunes may modify this agreement at any time.\n",
      "\n",
      "2. Text 2 includes the following information that is not present in Text 1:\n",
      "- Users are responsible for maintaining the security of their account and notifying iTunes of any security breaches.\n",
      "- Users must provide accurate information when registering and updating their account.\n",
      "- The agreement also covers the requirements for use, creating an account, automatic delivery and downloading of purchases, automatic delivery of updates, app bundles, privacy, and usage rules.\n",
      "- Users are not allowed to violate the security framework or access the Stores in any unauthorized way.\n",
      "- iTunes has the right to monitor and take action against any violations.\n",
      "- The Stores and their content are protected by copyright laws, and users are not allowed to reproduce or exploit them without permission.\n",
      "- Users must comply with all applicable laws and regulations.\n",
      "- Users are bound by the updated terms if iTunes modifies the agreement.\n",
      "- The agreement also includes specific terms for the Mac App Store and App Store, including licensing and in-app purchases.\n",
      "\n",
      "These are the main differences between the two texts.\n"
     ]
    }
   ],
   "source": [
    "print(response)"
   ]
  },
  {
   "cell_type": "markdown",
   "metadata": {},
   "source": [
    "# Davinci"
   ]
  },
  {
   "cell_type": "code",
   "execution_count": 94,
   "metadata": {},
   "outputs": [
    {
     "name": "stdout",
     "output_type": "stream",
     "text": [
      "\n",
      "1. The first text states that users are responsible for notifying iTunes of any security breaches, while the second text does not mention this. \n",
      "2. The first text states that users may be provided with limited access to download album cover art for music stored in their iTunes Library, while the second text does not mention this. \n",
      "3. The second text states that users must notify iTunes of any security breaches, while the first text does not mention this. \n",
      "4. The second text states that users must provide accurate information when registering and updating their account, while the first text does not mention this. \n",
      "5. The second text states that the agreement includes specific terms for the Mac App Store and App Store, including licensing and in-app purchases, while the first text does not mention this.\n"
     ]
    }
   ],
   "source": [
    "prompt = PromptTemplate(\n",
    "    template=\"\"\"Find key differences between the following texts, specified by three \n",
    "    backticks\n",
    "    ```{text_2015}``` and ```{text_2023}```, jhihglighting specifically when items exist in \n",
    "    one and not the other, \n",
    "    \"\"\",\n",
    "    input_variables=[\"text_2015\", \"text_2023\"],\n",
    ")\n",
    "\n",
    "final_prompt = prompt.format(text_2015=map_reduce_2015, text_2023=map_reduce_2023)\n",
    "completion = davinci(final_prompt)\n",
    "print(completion)"
   ]
  },
  {
   "cell_type": "code",
   "execution_count": null,
   "metadata": {},
   "outputs": [],
   "source": []
  },
  {
   "cell_type": "markdown",
   "metadata": {},
   "source": [
    "## Option 2 - single input"
   ]
  },
  {
   "cell_type": "code",
   "execution_count": 85,
   "metadata": {},
   "outputs": [],
   "source": [
    "delimiter = \"#\" * 10\n",
    "combined_text = delimiter + map_reduce_2015 + delimiter + map_reduce_2015 + delimiter"
   ]
  },
  {
   "cell_type": "code",
   "execution_count": 86,
   "metadata": {},
   "outputs": [
    {
     "name": "stdout",
     "output_type": "stream",
     "text": [
      "Your total summary has 1806 tokens\n"
     ]
    }
   ],
   "source": [
    "print(f\"Your total summary has {llm3.get_num_tokens(combined_text)} tokens\")"
   ]
  },
  {
   "cell_type": "code",
   "execution_count": 87,
   "metadata": {},
   "outputs": [],
   "source": [
    "prompt = PromptTemplate(\n",
    "    template=\"\"\"The following text contains two summaries, seperated by the following delimiter:\n",
    "    ##########. Can you find key differences between the two summaries. \n",
    "    Text: {text}\n",
    "    \"\"\",\n",
    "    input_variables=[\"text\"],\n",
    ")\n",
    "\n",
    "final_prompt = prompt.format(text=combined_text)\n",
    "completion = davinci(final_prompt)\n",
    "print(completion)"
   ]
  },
  {
   "cell_type": "code",
   "execution_count": null,
   "metadata": {},
   "outputs": [],
   "source": []
  },
  {
   "cell_type": "markdown",
   "metadata": {},
   "source": [
    "# Vector summarizartion"
   ]
  },
  {
   "cell_type": "code",
   "execution_count": 48,
   "metadata": {},
   "outputs": [],
   "source": [
    "vectors_2015_fname = \"vectors_summarized_2015.txt\"\n",
    "vectors_2023_fname = \"vectors_summarized_2023.txt\""
   ]
  },
  {
   "cell_type": "code",
   "execution_count": 58,
   "metadata": {},
   "outputs": [],
   "source": [
    "with open(vectors_2015_fname, \"r\") as f:\n",
    "    vector_2015 = f.read()\n",
    "\n",
    "with open(vectors_2023_fname, \"r\") as f:\n",
    "    vector_2023 = f.read()"
   ]
  },
  {
   "cell_type": "code",
   "execution_count": 59,
   "metadata": {},
   "outputs": [
    {
     "data": {
      "text/plain": [
       "SystemMessage(content='Find key differences between the following texts, specified by three \\n    backticks\\n    ```This passage provides information about various features and policies related to purchasing and using products from the Apple Stores. It begins by explaining the convenience of the 1-Click feature, which allows users to make purchases with a single click on their computer or by tapping a button on their Apple-branded devices. When 1-Click is activated, the purchase is immediately downloaded and completed without any further steps.\\n\\nThe passage also discusses the terms and conditions for Gift Certificates, iTunes Cards and Codes, Content Codes, and Allowances. These items are not redeemable for cash, cannot be returned for a cash refund, and have restrictions on their use. They may only be redeemed in the United Kingdom and are not transferable. Additionally, iTunes is not responsible for lost or stolen gift certificates or codes.\\n\\nThe passage also includes important safety information, advising users to take breaks and rest if they experience any discomfort while using the products offered through the Stores. It warns that a small percentage of people may experience seizures or blackouts when exposed to flashing lights or patterns and recommends consulting a doctor if these symptoms occur.\\n\\nLastly, the passage mentions pre-orders and family sharing. By pre-ordering products, users authorize the Stores to automatically charge their account and download the product when it becomes available. Family sharing allows purchases to be shared among family members, but it is important for parents to monitor their children\\'s use of the products for any signs of symptoms mentioned earlier.\\nThe passage explains the concept of Family Sharing, which allows up to six members of a family to share eligible iTunes, App Store, Mac App Store, and iBooks Store products. Family members can view and download each other\\'s eligible products, but there is an option to hide purchases. In addition to sharing products, Family Sharing also allows for the sharing of information such as photos, videos, events, reminders, and device location. Family Sharing is for personal, non-commercial use only and requires iTunes and iCloud accounts, as well as iOS 8 and/or OS X Yosemite.\\n\\nThe passage also discusses the role of the \"Organiser\" in a Family. The Organiser is responsible for inviting other members to join the Family and must be 18 years or older with an eligible payment method registered with iTunes. The Organiser\\'s payment method is used to pay for any purchases made by Family members, even if the Organiser was unaware of the transaction or if multiple Family members initiate purchases for the same product. The Organiser can change the payment method at any time, but is responsible for compliance with any agreement with the payment method provider.\\n\\nFurthermore, the Organiser has the ability to use the Ask to Buy function, which requires children under 18 to obtain permission from the Organiser or other designated adults before downloading free or paid products. However, products downloaded from Family members and products acquired via redemption codes are not subject to Ask to Buy. The passage emphasizes that Ask to Buy is optimized for iOS 8 and OS X Yosemite, and earlier software may present alternative permission processes or prevent purchases altogether. iTunes is not responsible for any harm resulting from delays in Ask to Buy approvals or denials.\\nThis passage outlines the requirements and guidelines for using the iTunes Service. It states that in order to use the service, users must have compatible devices, internet access, and certain software. High-speed internet access is recommended, especially for film rentals. Users are responsible for meeting these requirements, which may change over time. The passage also emphasizes that the service is separate from any other product or offering, and purchasing other products does not guarantee access to the service.\\n\\nThe passage then discusses the importance of account security. Users are advised not to share their account information with anyone else and are solely responsible for maintaining the confidentiality and security of their account. Any unauthorized use of the account should be immediately reported to iTunes. To purchase and download iTunes products, users must enter their Apple ID and password or use Touch ID for authentication. Once authenticated, users do not need to re-enter their password for fifteen minutes. However, users have the option to require a password for every transaction or turn off the ability to make transactions altogether.\\n\\nThe passage also mentions automatic delivery and downloading of previous purchases. Users can choose to automatically receive copies of purchased iTunes content on additional compatible devices. The content will auto-download on devices with push notifications, while on devices without push notifications, it will appear in the download queue for manual initiation. Users are also allowed to download previously-acquired content onto associated devices. However, there are limitations on the number of associated devices and iTunes-authorized computers. Free content can be downloaded onto an unlimited number of devices while it is free, but on no more than five iTunes-authorized computers.\\nThis passage provides information about the usage and limitations of Apple TV and iTunes Match. It states that Apple TV is not considered an \"Associated Device\" but can be used to play back TV shows and purchased movies from iTunes, with a limitation on the number of Apple TVs that can be used simultaneously. It also warns that some iTunes content may be large and result in significant data charges when delivered over a data connection.\\n\\nThe passage then explains iTunes Match, which allows users to remotely access their matched or uploaded songs, music videos, playlists, and other information about their iTunes Library. Users must subscribe to iTunes Match for an annual fee, which will automatically renew unless canceled. The service works with libraries containing up to 25,000 songs that are not currently available on iTunes or not purchased from iTunes. iTunes Match scans song files and collects information to match songs with those available on the iTunes Store. If a song is not successfully matched, the user\\'s copy will be uploaded to iTunes. iTunes Match content can be accessed from Associated Devices and compatible Apple TVs, with limitations on the number of devices that can be used simultaneously.\\n\\nThe passage also mentions that when using iTunes Match, Genius will associate information about the media in the user\\'s iTunes library with their Account. This association will continue for a period of time after the subscription ends. It states that iTunes Match should only be used for lawfully acquired content and warns against using illegitimate content, which may result in civil and criminal penalties for copyright infringement. The passage concludes by mentioning that iTunes Match is provided on an \"AS IS\" basis and may contain errors or inaccuracies, and that users should back up their data before using the service. It also refers to Apple\\'s Privacy Policy for information on privacy.\\nThis passage discusses the Genius feature offered by Apple. When users opt in to this feature, Apple collects information from their iTunes library, such as play history and playlists, in order to provide personalized recommendations. This information is stored anonymously and not associated with the user\\'s name or account. Apple may also combine this information with aggregated data from other users who have opted in, as well as purchase history data and information from third parties, to create personalized playlists and provide recommendations for media and other products and services.\\n\\nUsers have the option to enable or disable the Genius feature at any time. If they choose not to enable it, Apple will not collect or use information from their iTunes library in this manner. By opting in, users consent to the use of their information as described and in accordance with Apple\\'s Privacy Policy. The passage also mentions that iTunes reserves the right to change content options without notice and that the iTunes Products are provided to users through a license, with certain usage rules and restrictions.\\n\\nThe passage concludes by outlining the usage rules for iTunes Products. Users are authorized to use these products for personal, noncommercial use and can store them on up to five different devices. They can also burn an audio playlist up to seven times and use the burned CD in the same way as a retail store-bought CD, subject to copyright laws. However, burning video iTunes Products is only allowed for backup purposes and these backups can only be played via the iTunes application.\\nThis passage outlines the terms and conditions for using the iTunes Service. It states that users are able to submit materials and links to third-party content on the Service, but they are responsible for ensuring that these materials do not infringe on the rights of others or violate any laws. By submitting materials, users grant iTunes a license to use them as part of the Service without compensation. iTunes reserves the right to not post or publish any materials and to remove or edit any material at its discretion.\\n\\nThe passage also mentions that iTunes has the right to monitor materials submitted by users and to take action if there is a violation of the agreement. It provides links to third-party websites but states that iTunes is not responsible for the content or accuracy of these websites. Users are warned that they may encounter offensive or objectionable material while using the Service and that iTunes is not liable for this. The accuracy of product types and descriptions is not guaranteed.\\n\\nThe passage emphasizes that the Service and its content are protected by intellectual property laws and that users are not allowed to use this proprietary information or materials in any way except for using the Service in compliance with the agreement. Users are not permitted to modify, sell, distribute, or create derivative works based on the Service. iTunes reserves the right to change or remove any content or materials offered by the Service without notice. The copyright in the Service belongs to iTunes and its licensors, and unauthorized use may result in civil and criminal penalties.\\nThis passage is a section of the terms and conditions agreement for iTunes. It states that if a user breaches the agreement, they will be held liable for any claims arising from the breach and for any actions taken by iTunes during their investigation. iTunes also reserves the right to modify the agreement at any time and impose new terms or conditions, which will be effective immediately and incorporated into the agreement. If a user refuses to accept these changes, iTunes has the right to terminate the agreement.\\n\\nThe agreement also states that it governs the user\\'s use of the service and supersedes any prior agreements. The user may also be subject to additional terms and conditions when using affiliate services, certain iTunes products, third-party content, or third-party software. If any part of the agreement is held invalid, the remaining portions will still be in effect. iTunes is not responsible for failures to fulfill obligations due to causes beyond its control.\\n\\nThe service is operated by iTunes from its offices in Luxembourg, and the user agrees to comply with all applicable laws. iTunes may notify the user through email, postal mail, or a posting on the service. iTunes also has the right to take steps to enforce and verify compliance with the agreement, including disclosing registration data and account information to law enforcement authorities or third parties if necessary.\\n\\nThe passage also introduces the Mac App Store, App Store, and iBooks Store, stating that iTunes is the provider of these stores. Users can purchase licenses for software products and digital book content from these stores. The requirements for using the stores include being at least 13 years old, with accounts for those under 13 being created by a parent or legal guardian using Family Sharing. The stores are only available in the United Kingdom, and iTunes may use technologies to verify compliance with this restriction.\\nThis passage outlines several important aspects of using the App Store and Mac App Store. Firstly, it explains that your device or computer will periodically check for updates to the apps on your device, and if available, these updates may automatically download and install. However, you have the option to turn off automatic updates at any time. \\n\\nThe passage also mentions the concept of App Bundles, which are packages that contain multiple items. The price displayed with an App Bundle is the price you will be charged upon purchasing it, and the price may be reduced if you have already purchased or acquired some of the items included in the bundle.\\n\\nPrivacy is addressed in the passage, stating that the Stores are subject to Apple\\'s Privacy Policy. The Privacy Policy can be found on Apple\\'s website.\\n\\nThe passage also explains that when you purchase a product from iTunes, you are actually purchasing a license to use the product. This license forms a binding agreement between you and the publisher of the product. The usage of products is subject to certain rules established by iTunes and the publishers, and any other use may constitute copyright infringement. iTunes reserves the right to modify the usage rules for future purchases, but these changes will not apply to products you have already purchased.\\n\\nThe passage also emphasizes the importance of content security and store security. Users are not allowed to violate or tamper with the security framework of the products, and violations may result in enforcement actions by iTunes. Access to the stores should only be done through software provided by Apple, and unauthorized access may result in legal consequences.\\n\\nLastly, the passage mentions that the stores may offer interactive features for users to submit materials, but users are responsible for ensuring that their submissions do not infringe on the rights of others or violate any laws. iTunes has the right to remove or edit any materials submitted by users.\\nThis passage outlines the scope of the license granted to the user for the Licensed Application. The license allows the user to use the application on Apple-branded products running iOS or Mac OS X that they own or control, as long as it is in compliance with the Usage Rules set forth in the Mac App Store, App Store, and iBooks Store Terms and Conditions. The license does not permit the user to use the application on Apple devices that they do not own or control, and it prohibits the distribution or availability of the application over a network for multiple devices to use simultaneously. The user is also not allowed to rent, lease, sell, transfer, or sublicense the application, and if they sell their Apple device, they must remove the application from it.\\n\\nThe passage also includes a section on the user\\'s consent to the collection and use of data by the Licensor. The user agrees that the Licensor may collect technical data and related information about their device, system, and application software to facilitate software updates, product support, and other services related to the Licensed Application. The Licensor may use this information to improve its products or provide services, as long as it does not personally identify the user.\\n\\nThe passage further discusses the termination of the license, stating that it is effective until terminated by the user or the Licensor. If the user fails to comply with any terms of the license, their rights will automatically terminate without notice from the Licensor. In such cases, the user must cease all use of the Licensed Application and destroy all copies of it.\\n\\nLastly, the passage mentions that the Licensed Application may enable access to external services and websites. The use of these external services requires internet access and may require the user to accept additional terms. The user acknowledges that they may encounter offensive or objectionable content while using these services and that the Licensor and its agents are not liable for such content. The passage also states that the Licensor is not responsible for examining or evaluating the content, accuracy, legality, or quality of third-party materials or websites accessed through the Licensed Application. These materials and links are provided as a convenience to the user.\\nThis passage outlines the terms and conditions for using the Licensed Application and iBooks Store Products. It states that the Licensor has the right to warn, suspend, or terminate access to the External Services if there is a suspected violation of the agreement. It also mentions that the Licensor is not liable for any loss of income, business, or profits, or any loss or corruption of data resulting from the use of the Licensed Application. However, the Licensor\\'s liability is not limited in cases of fraud, gross negligence, wilful misconduct, or death or personal injury caused by negligence.\\n\\nThe passage also includes restrictions on the use and export of the Licensed Application. It states that the application can only be used and exported in accordance with United States law and the laws of the jurisdiction in which it was obtained. It cannot be exported to U.S.-embargoed countries or to individuals on certain U.S. government lists. The user must also agree not to use the products for any purposes prohibited by United States law, including the development of weapons.\\n\\nFurthermore, the passage mentions that the Licensed Application and related documentation are considered \"Commercial Items\" and are being licensed to U.S. Government end users with the same rights as other end users. The license and use of the Licensed Application are governed by English laws and may also be subject to other local, state, national, or international laws.\\n\\nIn addition to the terms and conditions for the Licensed Application, the passage also includes information about the license and usage rules for iBooks Store Products. It states that the license for these products is between the user and the third-party publisher, not iTunes. The publisher is responsible for the product, its content, any warranties, and any claims related to its use. The passage also outlines the usage rules for iBooks Store Products, including limitations on personal, noncommercial use, the number of devices on which the products can be stored, and the restrictions on promotional use and burning the products to disc.\\nThis passage discusses the ability to manually sync iBooks Store Products from an iTunes-authorised device to other devices. It states that this can be done as long as the iBooks Store Product is associated with an Account on the primary iTunes-authorised device. The primary iTunes-authorised device is defined as the device that was first synced with the other device or the one that is designated as primary using iTunes.\\n\\nIn simpler terms, this passage is saying that users have the ability to manually sync iBooks Store Products from one iTunes-authorised device to other devices. However, there are certain conditions that need to be met for this to happen. The iBooks Store Product must be associated with an Account on the primary iTunes-authorised device. The primary iTunes-authorised device is either the device that was first synced with the other device or the one that is designated as primary using iTunes.\\n\\nOverall, this passage is explaining the process of manually syncing iBooks Store Products and the requirements for doing so. It provides a clear definition of the primary iTunes-authorised device and emphasizes the importance of having the iBooks Store Product associated with an Account on this device.``` and ```This section of the Apple Media Services Terms and Conditions outlines the agreement between the user and Apple regarding the use of Apple\\'s Services. The Services include various platforms such as the App Store, Apple Arcade, Apple Books, Apple Fitness+, Apple Music, Apple News, Apple News+, Apple One, Apple Podcasts, Apple Podcasts Subscriptions, Apple TV, Apple TV+, Apple TV Channels, Game Center, and iTunes. These Services allow users to purchase, license, rent, or subscribe to content, apps, and other in-app services.\\n\\nTo use the Services, users must have compatible hardware, software, and internet access. The performance of the Services may be affected by these factors. Users can acquire content on the Services either for free or for a charge, which is referred to as a \"Transaction.\" Each Transaction is an electronic contract between the user and Apple and/or the entity providing the content. In some cases, Apple Distribution International Ltd. acts as the merchant of record for certain content acquired from Apple Books, Apple Podcasts, or the App Store.\\n\\nWhen making a Transaction, users are asked to choose how frequently their password should be required for future Transactions. Users can also enable Touch ID or Face ID for authentication. Apple will charge the user\\'s selected payment method for paid Transactions, including applicable taxes. Multiple payment methods can be associated with the user\\'s Apple ID, and Apple may store and charge those payment methods for Transactions. The primary payment method is displayed at the top of the user\\'s account settings payments page.\\nThis section of the contract discusses payment methods and the process for canceling an order. It states that if your primary payment method cannot be charged for any reason, Apple will attempt to charge your other eligible payment methods in order. If they are unable to charge you, you are still responsible for any uncollected amounts and they may request another payment method. If you pre-order content, you will be charged when it is delivered unless you cancel before it becomes available. Apple may also automatically update your payment information if provided by the payment networks or financial institutions.\\n\\nThe passage also mentions that content prices may change at any time and if there are technical problems with delivery, you can either receive a replacement or a refund. However, Apple reserves the right to suspend or cancel payment or refuse a refund request if there is evidence of fraud, abuse, or unlawful behavior.\\n\\nThe section also outlines the right of cancellation. Customers have 14 days from receiving their receipt to cancel their order without giving a reason. To cancel, customers can inform Apple through the \"Report a Problem\" feature or by using the model cancellation form provided. The cancellation must be sent before the 14-day period expires. If the cancellation is made within the specified time frame, Apple will reimburse the customer within 14 days using the same payment method used for the transaction. However, there is an exception to the right of cancellation if the delivery of content has already started at the customer\\'s request.\\nThis section of the contract outlines the terms and conditions for using Apple\\'s Services and accessing your Content. It states that in order to use these services, you will need an Apple ID, which is the account used across Apple\\'s ecosystem. It is emphasized that you are responsible for maintaining the confidentiality and security of your account, and Apple will not be held responsible for any losses resulting from unauthorized use. If you suspect that your account has been compromised, you are advised to contact Apple.\\n\\nThe section also specifies that in order to create an account and use the services, you must be at least 13 years old or the equivalent minimum age in your Home Country. If you are under this age, a parent or legal guardian can create an account for you using Family Sharing or through an approved educational institution. It is recommended that the parent or legal guardian review the agreement with the minor to ensure understanding.\\n\\nThe contract also mentions the option to add, notify, or remove a Legacy Contact for your Apple ID, with the limitations of access described in the provided links. It then goes on to state that your use of the Services is subject to Apple\\'s Privacy Policy, and provides a link to access it. Finally, the section outlines the Usage Rules for the Services and Content, emphasizing that any other use is considered a breach of the agreement. It covers various rules such as using the Services and Content for personal, noncommercial purposes, limitations on the number of devices and Apple IDs that can be used, prohibition of manipulating play counts or reviews, responsibility for backing up downloaded Content, and not tampering with security technology or modifying Apple\\'s software. It also mentions that video content requires an HDCP connection.\\nThis section of the contract outlines the terms and conditions for using digital content on Apple devices. Users are allowed to use DRM-free content on a reasonable number of compatible devices that they own or control. DRM-protected content can be used on up to five computers and any number of devices that are synced to those computers.\\n\\nContent rentals are limited to viewing on a single device at a time and must be played within 30 days. Once playback starts, it must be completed within 48 hours. Burning audio playlists of purchased music to disc is allowed up to seven times, but this limitation does not apply to DRM-free content. Other content cannot be burned to disc.\\n\\nPurchased content will generally remain available for download, redownload, or access from Apple. However, there is a possibility that content may be removed from the services, making it unavailable for further download or access. To ensure continued access, users are encouraged to download all purchased content to a device and back it up.\\n\\nThe section also covers specific rules for different types of content. For App Store content, apps and in-app purchases can be downloaded and used on multiple devices owned or controlled by an individual or an enterprise. Apple Music allows streaming on a single device for individual memberships and up to six devices for family memberships. Apple Arcade apps can only be downloaded or redownloaded with a valid trial or subscription, and access to downloaded apps ends when the subscription ends. For Apple TV content, most channels allow streaming on up to three devices simultaneously.\\n\\nThere are also limitations on the amount of content that can be downloaded, and some downloaded content may expire after a certain amount of time. Users may be able to redownload previously acquired content to associated devices, but this is subject to availability. Content may also be removed from the services at any time, making it inaccessible for download or redownload.\\nThis section of the contract discusses subscriptions, content and service availability, and the use of third-party devices and equipment. \\n\\nRegarding subscriptions, users have the option to purchase access to content or services on a subscription basis. These paid subscriptions automatically renew until cancelled by the user. If the price of a paid subscription increases, the user will be notified and their consent will be required to continue. The user will be charged no more than 24 hours prior to the start of the latest subscription period. If the payment method cannot be charged, the user remains responsible for any uncollected amounts. Apple reserves the right to cancel a paid subscription if the payment method cannot be successfully charged.\\n\\nIn terms of content and service availability, certain terms in the agreement may not be applicable to the user\\'s home country unless they become available. Users can check the available content types in their home country on the services or Apple support website. Some services and content may not be accessible when traveling outside of the home country, unless required by law.\\n\\nWhen using non-Apple-branded devices, users may not be able to access all features of the services. Additionally, certain services may require or suggest the use of third-party equipment, which should be used according to the manufacturer\\'s instructions. Apple may also automatically download and install minor updates to its software on third-party equipment.\\n\\nOverall, this section of the contract provides information on subscriptions, content and service availability, and the use of third-party devices and equipment. It outlines the terms and conditions related to paid subscriptions, access to content, and the limitations when using non-Apple devices.\\nThis section of the contract discusses two main topics: submissions to Apple\\'s services and family sharing. \\n\\nRegarding submissions, users are allowed to submit materials such as comments, ratings, reviews, pictures, videos, and podcasts through Apple\\'s services. However, these submissions must comply with Apple\\'s submission guidelines, which may be updated periodically. Apple reserves the right to remove any materials that violate these guidelines. Users are also granted a worldwide, royalty-free, perpetual, nonexclusive license to use the materials submitted within the services and for internal purposes. Apple may monitor and edit submitted materials as necessary.\\n\\nIn terms of family sharing, the organizer of a family must be at least 18 years old and the parent or legal guardian of any family member under the age of 13. Family sharing allows eligible subscriptions and content to be shared among up to six family members. The organizer is responsible for inviting other members to participate and agrees to pay for all transactions initiated by family members. The organizer\\'s payment methods are used for these transactions, except when the family member has store credit. Family members are considered agents of the organizer when using the organizer\\'s payment methods. The organizer is responsible for complying with payment method contracts and assumes all risks associated with sharing access to their payment methods. Receipts or invoices for family member transactions are sent to the initiating family member and, if billed to the organizer\\'s payment method, also to the organizer.\\nThis section of the contract discusses three main topics: Ask to Buy, Family Member changes, and Family Sharing Rules. \\n\\nAsk to Buy is a feature that allows an Organizer, who must be the parent or legal guardian, to approve transactions initiated by a family member under the age of 18. However, content shared by family members or acquired via content codes is generally not subject to Ask to Buy, except for content codes that provide access to subscriptions. Ask to Buy is automatically enabled for family members under the age of 13 and stays on until deactivated by the parent or legal guardian. Once a family member turns 18, Ask to Buy cannot be turned on again. It is important to note that Ask to Buy does not require Purchase Sharing to be enabled.\\n\\nWhen a family member leaves or is removed from the family, the remaining family members may no longer have access to the former member\\'s content, including content acquired with the organizer\\'s payment method. This means that if a family member leaves the family, their content will no longer be accessible to the other family members.\\n\\nFamily Sharing Rules state that an individual can only belong to one family at a time and can join a family no more than twice per year. Additionally, the Apple ID associated with a family can only be changed once every 90 days. All family members must share the same home country. Not all content, including in-app purchases, subscriptions, and some previously acquired apps, are eligible for purchase sharing. However, certain subscriptions such as Apple TV+, Apple Music Family, and Apple Fitness+ are automatically enabled for family sharing. It is important to note that subscriptions shared by a family may have content usage limitations on a per subscription basis.\\n\\nThe last part of the passage briefly mentions Series Pass and Multi-Pass. A Series Pass allows the purchase and receipt of television content as it becomes available, while a Multi-Pass applies to television content that is available on an ongoing basis. The full price of a Series Pass or Multi-Pass is charged at the time of the transaction. Series Pass or Multi-Pass content is available for download up to 90 days after the last episode becomes available. If a content provider delivers fewer TV episodes than planned when a Series Pass is purchased, Apple will credit the retail value of the corresponding number of episodes that were not provided. \\n\\nOverall, this section of the contract provides information on Ask to Buy, Family Member changes, Family Sharing Rules, and Series Pass/Multi-Pass for television content.\\nThis section of the contract explains the relationship between Apple, the App Provider, and the user. Apple acts as an agent for the App Providers in operating the App Store and is not directly involved in the sales contract or user agreement between the user and the App Provider. However, if the user is a customer of Apple Distribution International Ltd., they acquire the App license from Apple Distribution International Ltd., but the App itself is licensed by the App Provider. There are two types of apps: Apple Apps, which are licensed by Apple, and Third Party Apps, which are licensed by the App Provider. The App Provider is solely responsible for the content, warranties, and claims related to Third Party Apps.\\n\\nThe section also discusses In-App Purchases, which are content, services, or functionality that can be purchased within the app. In-App Purchases that are consumed during the use of the app cannot be transferred among devices and can only be downloaded once. Users must authenticate their account before making In-App Purchases, and there is a fifteen-minute window where additional purchases can be made without re-authenticating. The ability to make In-App Purchases can be turned off if desired.\\n\\nApple is responsible for providing maintenance and support for Apple Apps, while App Providers are responsible for providing maintenance and support for Third Party Apps. Some Apps may be sold together as a bundle, and the price displayed for an App Bundle is the price the user will be charged. The price may be reduced if the user has already purchased or acquired some of the apps in the bundle.\\n\\nLastly, the section briefly mentions how search results and rankings are determined in the App Store. The main parameters considered include the metadata provided by App Providers, customer engagement with the Apps and the App Store, and the popularity of the Apps. These parameters aim to deliver the most relevant results to customer search queries.\\nThis section of the contract discusses the use of external services in the licensed application. The user agrees to use these external services at their own risk, and the licensor is not responsible for examining or evaluating the content or accuracy of these services. The data displayed by the licensed application or external services is for informational purposes only and is not guaranteed by the licensor. The user is not allowed to use the external services in a manner that infringes on the intellectual property rights of the licensor or any third party, or to harass, abuse, stalk, threaten, or defame any person or entity. The availability and appropriateness of the external services may vary, and the user is responsible for complying with applicable laws. The licensor reserves the right to change or restrict access to the external services without notice.\\n\\nThe warranty section states that the licensor will use reasonable care and skill in providing the licensed application and any external services. However, the licensor does not make any other promises or warranties about the external services. They do not guarantee that the user\\'s use of the external services will be uninterrupted or error-free, or that the services will be free from loss, corruption, attack, viruses, interference, hacking, or other security intrusions. The user is responsible for backing up their own system, including any licensed application stored on it.\\n\\nThe limitation of liability section states that the licensor, its directors, officers, employees, affiliates, agents, contractors, principals, or licensors will not be liable for any loss or damage caused by the licensor or its employees or agents, except in cases of fraud, gross negligence, willful misconduct, or death or personal injury caused by negligence. The licensor is not liable if there is no breach of a legal duty of care, if the loss or damage is not a reasonably foreseeable result of a breach, if the increase in loss or damage is a result of the user\\'s breach of the agreement, if it results from the licensor\\'s actions during the investigation of a suspected violation or as a result of a violation of the agreement, or if it relates to loss of income, business, profits, or loss or corruption of data in connection with the user\\'s use of the licensed application.\\nThis section of the contract outlines several important terms and conditions regarding the use and export of the Licensed Application. Firstly, it states that the user is only authorized to use the application in accordance with the laws of the United States and the jurisdiction in which it was obtained. The application cannot be exported or re-exported to U.S.-embargoed countries or to individuals listed on certain U.S. government lists. By using the application, the user confirms that they are not located in any restricted country or on any restricted list, and they agree not to use the application for any purposes prohibited by U.S. law, including the development of weapons.\\n\\nNext, the section addresses the use of the Licensed Application by U.S. government end users. It states that the application and related documentation are considered \"Commercial Items\" and are licensed to U.S. government end users with the same rights as other end users, in accordance with applicable regulations. The copyright laws of the United States also reserve certain unpublished rights.\\n\\nLastly, the section discusses the governing law and jurisdiction for disputes arising from the agreement. It states that the agreement is governed by the laws of the State of California, and any disputes or claims should be resolved in the courts located within Santa Clara County, California. However, if the user is not a U.S. citizen, does not reside in the U.S., and is accessing the service from a country listed, the applicable law and jurisdiction will be determined by the user\\'s usual place of residence. The United Nations Convention on the International Sale of Goods is specifically excluded from application to this agreement.\\n\\nOverall, this section of the contract provides important information regarding the authorized use and export of the Licensed Application, the rights of U.S. government end users, and the governing law and jurisdiction for disputes.\\nThis section of the contract discusses various terms and conditions related to the use of Apple Books, App Store, Apple Podcasts, Apple Music, and Apple Fitness+. It clarifies that when you acquire content from these platforms, Apple acts as an agent for the third-party content provider, and therefore, Apple is not a party to the transaction between you and the content provider. However, if you are a customer of Apple Distribution International Ltd., they are considered the merchant of record for the content you acquire. The content provider is solely responsible for the content, any warranties, and any claims related to the content.\\n\\nThe passage also explains the features and terms of iCloud Music Library, which allows you to access your matched or uploaded songs, playlists, and music videos on Apple Music-enabled devices. It mentions that iCloud Music Library collects information about your content and associates it with your Apple ID. It also logs information about your usage, such as the tracks you play, devices used, and playback duration. It emphasizes that iCloud Music Library should only be used for lawfully acquired content and may contain errors or inaccuracies. If you are not an Apple Music member, you can purchase an iTunes Match subscription to use iCloud Music Library. However, when your Apple Music membership ends, you will lose access to your iCloud Music Library.\\n\\nAdditionally, the section briefly mentions Apple Fitness+, stating that it is for entertainment and informational purposes only and should not be relied upon for medical advice. It advises seeking the advice of a qualified healthcare professional for any safety concerns or specific medical conditions or symptoms. The section concludes with a mention of Carrier Membership, but no further details are provided.\\nThis passage of the contract discusses several important terms and conditions related to the use of services provided by Apple. Firstly, it mentions the option to purchase a Service membership from a wireless carrier, known as a Carrier Membership. If a user chooses to purchase a Carrier Membership, their carrier becomes the merchant of record and will bill them for the cost of the membership. However, it is clarified that the Service itself is licensed and provided by Apple. Any billing disputes related to a Carrier Membership should be directed to the carrier, not Apple. By using a Service through a Carrier Membership, the user agrees to allow their carrier to exchange their account information with Apple.\\n\\nThe passage also includes miscellaneous terms applicable to all services provided by Apple. It defines Apple differently depending on the user\\'s home country, specifying the relevant Apple entity for each region. This ensures that users are aware of the specific entity they are entering into an agreement with based on their location.\\n\\nThe contract also states that Apple reserves the right to modify the agreement and add new terms or conditions at any time. These changes will be communicated to the user and will be effective immediately upon acceptance. If a user refuses to accept the changes, Apple has the right to terminate the agreement.\\n\\nFurthermore, the passage mentions that Apple is not responsible for any third-party materials included within or linked from the content or services provided. This means that Apple does not assume liability for any third-party content that may be accessed through their services.\\n\\nLastly, the passage addresses intellectual property rights. It states that the services, including content, graphics, user interface, and software, are proprietary information owned by Apple, its licensors, and content providers. Users are prohibited from using this proprietary information in any way except for personal, noncommercial use in compliance with the agreement. The content or services cannot be transferred, reproduced, modified, rented, sold, shared, or distributed without express authorization from Apple.\\nThis section of the contract discusses the trademarks and copyrights associated with Apple\\'s services. It states that the Apple name, logo, and various other trademarks are owned by Apple and cannot be used without permission. Users are not granted any rights or licenses to these trademarks. \\n\\nThe section also addresses copyright infringement. It states that the services and content provided by Apple are copyrighted by Apple Inc. and its subsidiaries. If a user believes that any content available through the services infringes their copyright, they can contact Apple through specific links provided for different services. There is also a mailing address and contact information for Apple\\'s Copyright Agent.\\n\\nFurthermore, the contract mentions that Apple has a policy to disable or terminate the accounts of users who repeatedly infringe on the copyrights of others. Apple may also suspend, disable, or terminate accounts of users engaged in infringing activities or for related reasons at its discretion.\\n\\nLastly, the section discusses the termination and suspension of services. If a user fails to comply with the provisions of the agreement or if Apple suspects non-compliance, Apple has the right to terminate the agreement, terminate the user\\'s Apple ID, preclude access to the services, and terminate the user\\'s license to the software. The user will still be responsible for any outstanding amounts due under their Apple ID.\\nThis section of the contract outlines Apple\\'s rights to modify, suspend, or discontinue their services at any time without notice to the user. Apple will not be held liable for exercising these rights. They will make an effort to warn users in advance of any changes, but termination of the service will not affect any content that the user has already acquired. However, the user may not be able to authorize additional computers to use the content.\\n\\nThe section also includes a disclaimer of warranties and liability limitations. Apple promises to provide the services with reasonable care and skill but does not make any other promises or warranties. They do not guarantee uninterrupted or error-free use of the service and may remove or cancel the service for technical or operational reasons. Apple disclaims any liability for loss, corruption, attack, viruses, interference, hacking, or other security intrusions. Users are responsible for backing up their own systems and content purchased or acquired from the service.\\n\\nApple states that they have no responsibility to continue making content available through their services and will not be liable if content becomes unavailable for download, redownload, or streaming. They also outline the circumstances in which they will not be liable for any loss or damage caused by their actions, including decisions to remove or deny access to information or content, suspend or terminate access to the service, or take any other action during the investigation of a suspected violation. Apple will use reasonable efforts to protect user-submitted information and is not liable for any loss of income, business, profits, or data corruption resulting from the use of the services. However, Apple\\'s liability is not limited in cases of fraud, gross negligence, willful misconduct, or death or personal injury. If the user breaches the agreement, they will be liable for any claims arising from the breach and for any actions taken by Apple during the investigation or as a result of a violation.\\nIn this section of the contract, the individual is granting Apple the right to take necessary actions to enforce and verify compliance with the agreement. This means that Apple has the authority to take steps they deem appropriate to ensure that the individual is following the terms of the agreement. Additionally, the individual agrees that Apple can disclose any data or information to law enforcement authorities, government officials, or third parties if Apple believes it is necessary to enforce or verify compliance with the agreement. This includes cooperating with any legal process related to the individual\\'s use of Apple\\'s services and content, as well as addressing any claims that the individual\\'s use of the services and content is unlawful or infringes on the rights of a third party. The section concludes with the date of the last update to the agreement, which is September 12, 2022.```, jhihglighting specifically when items exist in \\n    one and not the other, \\n    ')"
      ]
     },
     "execution_count": 59,
     "metadata": {},
     "output_type": "execute_result"
    }
   ],
   "source": [
    "system_message_prompt.format(text_2015=vector_2015, text_2023=vector_2023)\n",
    "chat_prompt = ChatPromptTemplate.from_messages([system_message_prompt])\n",
    "chat_prompt_with_values = chat_prompt.format_prompt(\n",
    "    text_2015=vector_2015, text_2023=vector_2023\n",
    ")\n",
    "\n",
    "chat_prompt_with_values.to_messages()\n",
    "response = llm3_16(chat_prompt_with_values.to_messages()).content"
   ]
  },
  {
   "cell_type": "code",
   "execution_count": 64,
   "metadata": {},
   "outputs": [
    {
     "name": "stderr",
     "output_type": "stream",
     "text": [
      "Retrying langchain.chat_models.openai.ChatOpenAI.completion_with_retry.<locals>._completion_with_retry in 4.0 seconds as it raised Timeout: Request timed out: HTTPSConnectionPool(host='api.openai.com', port=443): Read timed out. (read timeout=600).\n"
     ]
    }
   ],
   "source": [
    "print(response)"
   ]
  },
  {
   "cell_type": "markdown",
   "metadata": {},
   "source": [
    "## Davinci"
   ]
  },
  {
   "cell_type": "code",
   "execution_count": 97,
   "metadata": {},
   "outputs": [
    {
     "name": "stdout",
     "output_type": "stream",
     "text": [
      " ```This passage discusses the terms and conditions for using the iTunes Service. It states that in order to use the service, users must have compatible devices, internet access, and certain software. High-speed internet access is recommended, especially for film rentals. Users are responsible for meeting these requirements, which may change over time. The passage also emphasizes that the service is separate from any other product or offering, and purchasing other products does not guarantee access to the service.\n",
      "\n",
      "The passage then discusses the importance of account security. Users are advised not to share their account information with anyone else and are solely responsible for maintaining the confidentiality and security of their account. Any unauthorized use of the account should be immediately reported to iTunes. To purchase and download iTunes products, users must enter their Apple ID and password or use Touch ID for authentication. Once authenticated, users do not need to re-enter their password for fifteen minutes. However, users have the option to require a password for every transaction or turn off the ability to make transactions altogether.\n",
      "\n",
      "The passage also mentions automatic delivery and downloading of previous purchases. Users can choose to automatically receive copies of purchased iTunes content on additional compatible devices. The content will auto-download on devices with push notifications, while on devices without push notifications, it will appear in the download queue for manual initiation. Users are also allowed to download previously-acquired content onto associated devices. However, there are limitations on the number of associated devices and iTunes-authorized computers. Free content can be downloaded onto an unlimited number of devices while it is free, but on no more than five iTunes-authorized computers.\n",
      "This passage outlines the requirements and guidelines for using the iTunes Service. It states that in order to use the service, users must have compatible devices, internet access, and certain software. High-speed internet access is recommended, especially for film rentals. Users are responsible for meeting these requirements, which may change over time. The passage also emphasizes that the service is separate from any other product or offering, and purchasing other products does not guarantee access to the service.\n",
      "\n",
      "The passage then discusses the importance of account security. Users are advised not to share their account information with anyone else and are solely responsible for maintaining the confidentiality and security of their account. Any unauthorized use of the account should be immediately reported to iTunes. To purchase and download iTunes products, users must enter their Apple ID and password or use Touch ID for authentication. Once authenticated, users do not need to re-enter their password for fifteen minutes. However, users have the option to require a password for every transaction or turn off the ability to make transactions altogether.\n",
      "\n",
      "The passage also mentions automatic delivery and downloading of previous purchases. Users can choose to automatically receive copies of purchased iTunes content on additional compatible devices. The content will auto-download on devices with push notifications, while on devices without push notifications, it will appear in the download queue for manual initiation. Users are also allowed to download previously-acquired content onto associated devices. However, there are limitations on the number of associated devices and iTunes-authorized computers. Free content can be downloaded onto an unlimited number of devices while it is free, but on no more than five iTunes-authorized computers.\n",
      "This passage outlines the requirements and guidelines for using the iTunes Service. It states that in order to use the service, users must have compatible devices, internet access, and certain software. High-speed internet access is recommended, especially for film rentals. Users are responsible for meeting these requirements, which may change over time. The passage also emphasizes that the service is separate from any other product or offering, and purchasing other products does not guarantee access to the service.\n",
      "\n",
      "The passage then discusses the importance of account security. Users are advised not to share their account information with anyone else and are solely responsible for maintaining the confidentiality and security of their account. Any unauthorized use of the account should be immediately reported to iTunes. To purchase and download iTunes products, users must enter their Apple ID and password or use Touch ID for authentication. Once authenticated, users do not need to re-enter their password for fifteen minutes. However, users have the option to require a password for every transaction or turn off the ability to make transactions altogether.\n",
      "\n",
      "The passage also mentions automatic delivery and downloading of previous purchases. Users can choose to automatically receive copies of purchased iTunes content on additional compatible devices. The content will auto-download on devices with push notifications, while on devices without push notifications, it will appear in the download queue for manual initiation. Users are also allowed to download previously-acquired content onto associated devices. However, there are limitations on the number of associated devices and iTunes-authorized computers. Free content can be downloaded onto an unlimited number of devices while it is free, but on no more than five iTunes-authorized computers.\n",
      "This passage outlines the requirements and guidelines for using the iTunes Service. It states that in order to use the service, users must have compatible devices, internet access, and certain software. High-speed internet access is recommended, especially for film rentals. Users are responsible for meeting these requirements, which may change over time. The passage also emphasizes that the service is separate from any other product or offering, and purchasing other products does not guarantee access to the service.\n",
      "\n",
      "The passage then discusses the importance of account security. Users are advised not to share their account information with anyone else and are solely responsible for maintaining the confidentiality and security of their account. Any unauthorized use of the account should be immediately reported to iTunes. To purchase and download iTunes products, users must enter their Apple ID and password or use Touch ID for authentication. Once authenticated, users do not need to re-enter their password for fifteen minutes. However, users have the option to require a password for every transaction or turn off the ability to make transactions altogether.\n",
      "\n",
      "The passage also mentions automatic delivery and downloading of previous purchases. Users can choose to automatically receive copies of purchased iTunes content on additional compatible devices. The content will auto-download on devices with push notifications, while on devices without push notifications, it will appear in the download queue for manual initiation. Users are also allowed to download previously-acquired content onto associated devices. However, there are limitations on the number of associated devices and iTunes-authorized computers. Free content can be downloaded onto an unlimited number of devices while it is free, but on no more than five iTunes-authorized computers.\n",
      "This passage outlines the requirements and guidelines for using the iTunes Service. It states that in order to use the service, users must have compatible devices, internet access, and certain software. High-speed internet access is recommended, especially for film rentals. Users are responsible for meeting these requirements, which may change over time. The passage also emphasizes that the service is separate from any other product or offering, and purchasing other products does not guarantee access to the service.\n",
      "\n",
      "The passage then discusses the importance of account security. Users are advised not to share their account information with anyone else and are solely responsible for maintaining the confidentiality and security of their account. Any unauthorized use of the account should be immediately reported to iTunes. To purchase and download iTunes products, users must enter their Apple ID and password or use Touch ID for authentication. Once authenticated, users do not need to re-enter their password for fifteen minutes. However, users have the option to require a password for every transaction or turn off the ability to make transactions altogether.\n",
      "\n",
      "The passage also mentions automatic delivery and downloading of previous purchases. Users can choose to automatically receive copies of purchased iTunes content on additional compatible devices. The content will auto-download on devices with push notifications, while on devices without push notifications, it will appear in the download queue for manual initiation. Users are also allowed to download previously-acquired content onto associated devices. However, there are limitations on the number of associated devices and iTunes-authorized computers. Free content can be downloaded onto an unlimited number of devices while it is free, but on no more than five iTunes-authorized computers.\n",
      "This passage outlines the requirements and guidelines for using the iTunes Service. It states that in order to use the service, users must have compatible devices, internet access, and certain software. High-speed internet access is recommended, especially for film rentals. Users are responsible for meeting these requirements, which may change over time. The passage also emphasizes that the service is separate from any other product or offering, and purchasing other products does not guarantee access to the service.\n",
      "\n",
      "The passage then discusses the importance of account security. Users are advised not to share their account information with anyone else and are solely responsible for maintaining the confidentiality and security of their account. Any unauthorized use of the account should be immediately reported to iTunes. To purchase and download iTunes products, users must enter their Apple ID and password or use Touch ID for authentication. Once authenticated, users do not need to re-enter their password for fifteen minutes. However, users have the option to require a password for every transaction or turn off the ability to make transactions altogether.\n",
      "\n",
      "The passage also mentions automatic delivery and downloading of previous purchases. Users can choose to automatically receive copies of purchased iTunes content on additional compatible devices. The content will auto-download on devices with push notifications, while on devices without push notifications, it will appear in the download queue for manual initiation. Users are also allowed to download previously-acquired content onto associated devices. However, there are limitations on the number of associated devices and iTunes-authorized computers. Free content can be downloaded onto an unlimited number of devices while it is free, but on no more than five iTunes-authorized computers.\n",
      "This passage outlines the requirements and guidelines for using the iTunes Service. It states that in order to use the service, users must have compatible devices, internet access, and certain software. High-speed internet access is recommended, especially for film rentals. Users are responsible for meeting these requirements, which may change over time. The passage also emphasizes that the service is separate from any other product or offering, and purchasing other products does not guarantee access to the service.\n",
      "\n",
      "The passage then discusses the importance of account security. Users are advised not to share their account information\n"
     ]
    }
   ],
   "source": [
    "prompt = PromptTemplate(\n",
    "    template=\"\"\"Find key differences between the following texts, specified by three \n",
    "    backticks\n",
    "    ```{text_2015}``` and ```{text_2023}```, jhihglighting specifically when items exist in \n",
    "    one and not the other, \n",
    "    \"\"\",\n",
    "    input_variables=[\"text_2015\", \"text_2023\"],\n",
    ")\n",
    "\n",
    "final_prompt = prompt.format(text_2015=vector_2015, text_2023=vector_2023)\n",
    "completion = davinci16k(final_prompt)\n",
    "print(completion)"
   ]
  },
  {
   "cell_type": "code",
   "execution_count": null,
   "metadata": {},
   "outputs": [],
   "source": []
  }
 ],
 "metadata": {
  "kernelspec": {
   "display_name": ".venv",
   "language": "python",
   "name": "python3"
  },
  "language_info": {
   "codemirror_mode": {
    "name": "ipython",
    "version": 3
   },
   "file_extension": ".py",
   "mimetype": "text/x-python",
   "name": "python",
   "nbconvert_exporter": "python",
   "pygments_lexer": "ipython3",
   "version": "3.11.4"
  }
 },
 "nbformat": 4,
 "nbformat_minor": 2
}
